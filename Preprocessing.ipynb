{
 "cells": [
  {
   "cell_type": "code",
   "execution_count": 1,
   "metadata": {},
   "outputs": [],
   "source": [
    "#importing the necessary packages\n",
    "import pandas as pd\n",
    "import numpy as np\n",
    "import re\n",
    "\n",
    "\n",
    "import warnings\n",
    "warnings.filterwarnings(\"ignore\")"
   ]
  },
  {
   "cell_type": "code",
   "execution_count": 2,
   "metadata": {},
   "outputs": [
    {
     "data": {
      "text/html": [
       "<div>\n",
       "<style scoped>\n",
       "    .dataframe tbody tr th:only-of-type {\n",
       "        vertical-align: middle;\n",
       "    }\n",
       "\n",
       "    .dataframe tbody tr th {\n",
       "        vertical-align: top;\n",
       "    }\n",
       "\n",
       "    .dataframe thead th {\n",
       "        text-align: right;\n",
       "    }\n",
       "</style>\n",
       "<table border=\"1\" class=\"dataframe\">\n",
       "  <thead>\n",
       "    <tr style=\"text-align: right;\">\n",
       "      <th></th>\n",
       "      <th>Model</th>\n",
       "      <th>Stars</th>\n",
       "      <th>Num_of_Ratings</th>\n",
       "      <th>Reviews</th>\n",
       "      <th>Ram</th>\n",
       "      <th>Storage</th>\n",
       "      <th>Expandable</th>\n",
       "      <th>Display</th>\n",
       "      <th>Camera</th>\n",
       "      <th>Battery</th>\n",
       "      <th>Processor</th>\n",
       "      <th>Warranty</th>\n",
       "      <th>Price</th>\n",
       "    </tr>\n",
       "  </thead>\n",
       "  <tbody>\n",
       "    <tr>\n",
       "      <th>0</th>\n",
       "      <td>SAMSUNG Galaxy F13 (Waterfall Blue, 64 GB)</td>\n",
       "      <td>4.4</td>\n",
       "      <td>1,26,250 Ratings</td>\n",
       "      <td>7,344 Reviews</td>\n",
       "      <td>4 GB RAM</td>\n",
       "      <td>64 GB ROM</td>\n",
       "      <td>Expandable Upto 1 TB</td>\n",
       "      <td>16.76 cm (6.6 inch) Full HD+ Display</td>\n",
       "      <td>50MP + 5MP + 2MP | 8MP Front Camera</td>\n",
       "      <td>6000 mAh Lithium Ion Battery</td>\n",
       "      <td>Exynos 850 Processor</td>\n",
       "      <td>NaN</td>\n",
       "      <td>₹9,699</td>\n",
       "    </tr>\n",
       "    <tr>\n",
       "      <th>1</th>\n",
       "      <td>POCO C50 (Country Green, 32 GB)</td>\n",
       "      <td>4.4</td>\n",
       "      <td>3,204 Ratings</td>\n",
       "      <td>151 Reviews</td>\n",
       "      <td>2 GB RAM</td>\n",
       "      <td>32 GB ROM</td>\n",
       "      <td>Expandable Upto 512 GB</td>\n",
       "      <td>16.56 cm (6.52 inch) HD+ Display</td>\n",
       "      <td>8MP Dual Camera | 5MP Front Camera</td>\n",
       "      <td>5000 mAh Lithium Polymer Battery</td>\n",
       "      <td>Mediatek Helio A22 Processor, Upto 2.0 GHz Pro...</td>\n",
       "      <td>NaN</td>\n",
       "      <td>₹5,749</td>\n",
       "    </tr>\n",
       "    <tr>\n",
       "      <th>2</th>\n",
       "      <td>POCO C50 (Royal Blue, 32 GB)</td>\n",
       "      <td>4.4</td>\n",
       "      <td>3,204 Ratings</td>\n",
       "      <td>151 Reviews</td>\n",
       "      <td>2 GB RAM</td>\n",
       "      <td>32 GB ROM</td>\n",
       "      <td>Expandable Upto 512 GB</td>\n",
       "      <td>16.56 cm (6.52 inch) HD+ Display</td>\n",
       "      <td>8MP Dual Camera | 5MP Front Camera</td>\n",
       "      <td>5000 mAh Lithium Polymer Battery</td>\n",
       "      <td>Mediatek Helio A22 Processor, Upto 2.0 GHz Pro...</td>\n",
       "      <td>NaN</td>\n",
       "      <td>₹5,749</td>\n",
       "    </tr>\n",
       "    <tr>\n",
       "      <th>3</th>\n",
       "      <td>REDMI 10 (Caribbean Green, 64 GB)</td>\n",
       "      <td>4.3</td>\n",
       "      <td>1,93,536 Ratings</td>\n",
       "      <td>12,428 Reviews</td>\n",
       "      <td>4 GB RAM</td>\n",
       "      <td>64 GB ROM</td>\n",
       "      <td>Expandable Upto 1 TB</td>\n",
       "      <td>17.02 cm (6.7 inch) HD+ Display</td>\n",
       "      <td>50MP + 2MP | 5MP Front Camera</td>\n",
       "      <td>6000 mAh Lithium Polymer Battery</td>\n",
       "      <td>Qualcomm Snapdragon 680 Processor</td>\n",
       "      <td>NaN</td>\n",
       "      <td>₹9,299</td>\n",
       "    </tr>\n",
       "    <tr>\n",
       "      <th>4</th>\n",
       "      <td>REDMI 10 (Pacific Blue, 64 GB)</td>\n",
       "      <td>4.3</td>\n",
       "      <td>1,93,536 Ratings</td>\n",
       "      <td>12,428 Reviews</td>\n",
       "      <td>4 GB RAM</td>\n",
       "      <td>64 GB ROM</td>\n",
       "      <td>Expandable Upto 1 TB</td>\n",
       "      <td>17.02 cm (6.7 inch) HD+ Display</td>\n",
       "      <td>50MP + 2MP | 5MP Front Camera</td>\n",
       "      <td>6000 mAh Lithium Polymer Battery</td>\n",
       "      <td>Qualcomm Snapdragon 680 Processor</td>\n",
       "      <td>NaN</td>\n",
       "      <td>₹9,299</td>\n",
       "    </tr>\n",
       "  </tbody>\n",
       "</table>\n",
       "</div>"
      ],
      "text/plain": [
       "                                        Model  Stars    Num_of_Ratings  \\\n",
       "0  SAMSUNG Galaxy F13 (Waterfall Blue, 64 GB)    4.4  1,26,250 Ratings   \n",
       "1             POCO C50 (Country Green, 32 GB)    4.4     3,204 Ratings   \n",
       "2                POCO C50 (Royal Blue, 32 GB)    4.4     3,204 Ratings   \n",
       "3           REDMI 10 (Caribbean Green, 64 GB)    4.3  1,93,536 Ratings   \n",
       "4              REDMI 10 (Pacific Blue, 64 GB)    4.3  1,93,536 Ratings   \n",
       "\n",
       "          Reviews        Ram    Storage              Expandable  \\\n",
       "0   7,344 Reviews  4 GB RAM   64 GB ROM    Expandable Upto 1 TB   \n",
       "1     151 Reviews  2 GB RAM   32 GB ROM  Expandable Upto 512 GB   \n",
       "2     151 Reviews  2 GB RAM   32 GB ROM  Expandable Upto 512 GB   \n",
       "3  12,428 Reviews  4 GB RAM   64 GB ROM    Expandable Upto 1 TB   \n",
       "4  12,428 Reviews  4 GB RAM   64 GB ROM    Expandable Upto 1 TB   \n",
       "\n",
       "                                Display                               Camera  \\\n",
       "0  16.76 cm (6.6 inch) Full HD+ Display  50MP + 5MP + 2MP | 8MP Front Camera   \n",
       "1      16.56 cm (6.52 inch) HD+ Display   8MP Dual Camera | 5MP Front Camera   \n",
       "2      16.56 cm (6.52 inch) HD+ Display   8MP Dual Camera | 5MP Front Camera   \n",
       "3       17.02 cm (6.7 inch) HD+ Display        50MP + 2MP | 5MP Front Camera   \n",
       "4       17.02 cm (6.7 inch) HD+ Display        50MP + 2MP | 5MP Front Camera   \n",
       "\n",
       "                            Battery  \\\n",
       "0      6000 mAh Lithium Ion Battery   \n",
       "1  5000 mAh Lithium Polymer Battery   \n",
       "2  5000 mAh Lithium Polymer Battery   \n",
       "3  6000 mAh Lithium Polymer Battery   \n",
       "4  6000 mAh Lithium Polymer Battery   \n",
       "\n",
       "                                           Processor  Warranty   Price  \n",
       "0                               Exynos 850 Processor       NaN  ₹9,699  \n",
       "1  Mediatek Helio A22 Processor, Upto 2.0 GHz Pro...       NaN  ₹5,749  \n",
       "2  Mediatek Helio A22 Processor, Upto 2.0 GHz Pro...       NaN  ₹5,749  \n",
       "3                  Qualcomm Snapdragon 680 Processor       NaN  ₹9,299  \n",
       "4                  Qualcomm Snapdragon 680 Processor       NaN  ₹9,299  "
      ]
     },
     "execution_count": 2,
     "metadata": {},
     "output_type": "execute_result"
    }
   ],
   "source": [
    "df = pd.read_csv(r\"C:\\Users\\acer\\OneDrive\\Desktop\\AMAZON PRICE PREDICTOR\\Flipkart_results(1).csv\")\n",
    "df.head()"
   ]
  },
  {
   "cell_type": "markdown",
   "metadata": {},
   "source": [
    "**Data Cleaning and Exploaration**"
   ]
  },
  {
   "cell_type": "code",
   "execution_count": 3,
   "metadata": {},
   "outputs": [],
   "source": [
    "# Creating a copy of the Dataframe so that we don't accidently make changes to the real data\n",
    "df_copy = df.copy()"
   ]
  },
  {
   "cell_type": "code",
   "execution_count": 4,
   "metadata": {},
   "outputs": [
    {
     "data": {
      "text/plain": [
       "Model               0\n",
       "Stars               4\n",
       "Num_of_Ratings      4\n",
       "Reviews             4\n",
       "Ram                 0\n",
       "Storage             0\n",
       "Expandable        340\n",
       "Display             0\n",
       "Camera              0\n",
       "Battery             0\n",
       "Processor          25\n",
       "Warranty          787\n",
       "Price               0\n",
       "dtype: int64"
      ]
     },
     "execution_count": 4,
     "metadata": {},
     "output_type": "execute_result"
    }
   ],
   "source": [
    "# Checking for null values\n",
    "df_copy.isnull().sum()"
   ]
  },
  {
   "attachments": {},
   "cell_type": "markdown",
   "metadata": {},
   "source": [
    "*As we can see there a few missing values in the data with no data in the `Warranty` column.*  \n",
    "*So we will eliminate the column as it will be contributing no information at all to the model*"
   ]
  },
  {
   "cell_type": "code",
   "execution_count": 5,
   "metadata": {},
   "outputs": [],
   "source": [
    "df_copy.drop(columns=[\"Warranty\"],inplace=True)"
   ]
  },
  {
   "attachments": {},
   "cell_type": "markdown",
   "metadata": {},
   "source": [
    "*Step - 1: we take a look the price column...the values in it are in the `str` format*  \n",
    "*So we will extract the numerical values and also convert the price column to be in the `int` datatype*"
   ]
  },
  {
   "cell_type": "code",
   "execution_count": 6,
   "metadata": {},
   "outputs": [],
   "source": [
    "df_copy['Price'] = df_copy['Price'].str.replace('₹', '').str.replace(',', '').astype(int)"
   ]
  },
  {
   "attachments": {},
   "cell_type": "markdown",
   "metadata": {},
   "source": [
    "*Step 2: Correcting the model names:*  \n",
    "\n",
    "*As we can see some of the models have been repeated in this data on the basis of the colour variant.*    \n",
    "*I will change the model names so as to include the colour variants...and create a new column from them named*   *`Colur` while excluding the rest of the data as it is the storage which has its own separate column*"
   ]
  },
  {
   "cell_type": "code",
   "execution_count": 7,
   "metadata": {},
   "outputs": [
    {
     "data": {
      "text/html": [
       "<div>\n",
       "<style scoped>\n",
       "    .dataframe tbody tr th:only-of-type {\n",
       "        vertical-align: middle;\n",
       "    }\n",
       "\n",
       "    .dataframe tbody tr th {\n",
       "        vertical-align: top;\n",
       "    }\n",
       "\n",
       "    .dataframe thead th {\n",
       "        text-align: right;\n",
       "    }\n",
       "</style>\n",
       "<table border=\"1\" class=\"dataframe\">\n",
       "  <thead>\n",
       "    <tr style=\"text-align: right;\">\n",
       "      <th></th>\n",
       "      <th>Model</th>\n",
       "      <th>Stars</th>\n",
       "      <th>Num_of_Ratings</th>\n",
       "      <th>Reviews</th>\n",
       "      <th>Ram</th>\n",
       "      <th>Storage</th>\n",
       "      <th>Expandable</th>\n",
       "      <th>Display</th>\n",
       "      <th>Camera</th>\n",
       "      <th>Battery</th>\n",
       "      <th>Processor</th>\n",
       "      <th>Price</th>\n",
       "      <th>Color</th>\n",
       "      <th>Memory</th>\n",
       "    </tr>\n",
       "  </thead>\n",
       "  <tbody>\n",
       "    <tr>\n",
       "      <th>0</th>\n",
       "      <td>SAMSUNG Galaxy F13</td>\n",
       "      <td>4.4</td>\n",
       "      <td>1,26,250 Ratings</td>\n",
       "      <td>7,344 Reviews</td>\n",
       "      <td>4 GB RAM</td>\n",
       "      <td>64 GB ROM</td>\n",
       "      <td>Expandable Upto 1 TB</td>\n",
       "      <td>16.76 cm (6.6 inch) Full HD+ Display</td>\n",
       "      <td>50MP + 5MP + 2MP | 8MP Front Camera</td>\n",
       "      <td>6000 mAh Lithium Ion Battery</td>\n",
       "      <td>Exynos 850 Processor</td>\n",
       "      <td>9699</td>\n",
       "      <td>Waterfall Blue</td>\n",
       "      <td>64</td>\n",
       "    </tr>\n",
       "    <tr>\n",
       "      <th>1</th>\n",
       "      <td>POCO C50</td>\n",
       "      <td>4.4</td>\n",
       "      <td>3,204 Ratings</td>\n",
       "      <td>151 Reviews</td>\n",
       "      <td>2 GB RAM</td>\n",
       "      <td>32 GB ROM</td>\n",
       "      <td>Expandable Upto 512 GB</td>\n",
       "      <td>16.56 cm (6.52 inch) HD+ Display</td>\n",
       "      <td>8MP Dual Camera | 5MP Front Camera</td>\n",
       "      <td>5000 mAh Lithium Polymer Battery</td>\n",
       "      <td>Mediatek Helio A22 Processor, Upto 2.0 GHz Pro...</td>\n",
       "      <td>5749</td>\n",
       "      <td>Country Green</td>\n",
       "      <td>32</td>\n",
       "    </tr>\n",
       "    <tr>\n",
       "      <th>2</th>\n",
       "      <td>POCO C50</td>\n",
       "      <td>4.4</td>\n",
       "      <td>3,204 Ratings</td>\n",
       "      <td>151 Reviews</td>\n",
       "      <td>2 GB RAM</td>\n",
       "      <td>32 GB ROM</td>\n",
       "      <td>Expandable Upto 512 GB</td>\n",
       "      <td>16.56 cm (6.52 inch) HD+ Display</td>\n",
       "      <td>8MP Dual Camera | 5MP Front Camera</td>\n",
       "      <td>5000 mAh Lithium Polymer Battery</td>\n",
       "      <td>Mediatek Helio A22 Processor, Upto 2.0 GHz Pro...</td>\n",
       "      <td>5749</td>\n",
       "      <td>Royal Blue</td>\n",
       "      <td>32</td>\n",
       "    </tr>\n",
       "    <tr>\n",
       "      <th>3</th>\n",
       "      <td>REDMI 10</td>\n",
       "      <td>4.3</td>\n",
       "      <td>1,93,536 Ratings</td>\n",
       "      <td>12,428 Reviews</td>\n",
       "      <td>4 GB RAM</td>\n",
       "      <td>64 GB ROM</td>\n",
       "      <td>Expandable Upto 1 TB</td>\n",
       "      <td>17.02 cm (6.7 inch) HD+ Display</td>\n",
       "      <td>50MP + 2MP | 5MP Front Camera</td>\n",
       "      <td>6000 mAh Lithium Polymer Battery</td>\n",
       "      <td>Qualcomm Snapdragon 680 Processor</td>\n",
       "      <td>9299</td>\n",
       "      <td>Caribbean Green</td>\n",
       "      <td>64</td>\n",
       "    </tr>\n",
       "    <tr>\n",
       "      <th>4</th>\n",
       "      <td>REDMI 10</td>\n",
       "      <td>4.3</td>\n",
       "      <td>1,93,536 Ratings</td>\n",
       "      <td>12,428 Reviews</td>\n",
       "      <td>4 GB RAM</td>\n",
       "      <td>64 GB ROM</td>\n",
       "      <td>Expandable Upto 1 TB</td>\n",
       "      <td>17.02 cm (6.7 inch) HD+ Display</td>\n",
       "      <td>50MP + 2MP | 5MP Front Camera</td>\n",
       "      <td>6000 mAh Lithium Polymer Battery</td>\n",
       "      <td>Qualcomm Snapdragon 680 Processor</td>\n",
       "      <td>9299</td>\n",
       "      <td>Pacific Blue</td>\n",
       "      <td>64</td>\n",
       "    </tr>\n",
       "    <tr>\n",
       "      <th>...</th>\n",
       "      <td>...</td>\n",
       "      <td>...</td>\n",
       "      <td>...</td>\n",
       "      <td>...</td>\n",
       "      <td>...</td>\n",
       "      <td>...</td>\n",
       "      <td>...</td>\n",
       "      <td>...</td>\n",
       "      <td>...</td>\n",
       "      <td>...</td>\n",
       "      <td>...</td>\n",
       "      <td>...</td>\n",
       "      <td>...</td>\n",
       "      <td>...</td>\n",
       "    </tr>\n",
       "    <tr>\n",
       "      <th>782</th>\n",
       "      <td>SAMSUNG Galaxy A04e</td>\n",
       "      <td>4.3</td>\n",
       "      <td>19 Ratings</td>\n",
       "      <td>2 Reviews</td>\n",
       "      <td>4 GB RAM</td>\n",
       "      <td>128 GB RO</td>\n",
       "      <td>Expandable Upto 1 TB</td>\n",
       "      <td>16.51 cm (6.5 inch) HD+ Display</td>\n",
       "      <td>13MP + 2MP | 5MP Front Camera</td>\n",
       "      <td>5000 mAh Lithium Ion Battery</td>\n",
       "      <td>Mediatek Helio P35 Processor</td>\n",
       "      <td>11499</td>\n",
       "      <td>Light Blue</td>\n",
       "      <td>128</td>\n",
       "    </tr>\n",
       "    <tr>\n",
       "      <th>783</th>\n",
       "      <td>Infinix Hot 11 2022</td>\n",
       "      <td>4.2</td>\n",
       "      <td>17,231 Ratings</td>\n",
       "      <td>1,402 Reviews</td>\n",
       "      <td>4 GB RAM</td>\n",
       "      <td>64 GB ROM</td>\n",
       "      <td>Expandable Upto 1 TB</td>\n",
       "      <td>17.02 cm (6.7 inch) Full HD+ Display</td>\n",
       "      <td>13 MP + 2 MP Depth Lens | 8MP Front Camera</td>\n",
       "      <td>5000 mAh Li-ion Polymer Battery</td>\n",
       "      <td>UniSoc T610 Processor</td>\n",
       "      <td>9999</td>\n",
       "      <td>Aurora Green</td>\n",
       "      <td>64</td>\n",
       "    </tr>\n",
       "    <tr>\n",
       "      <th>784</th>\n",
       "      <td>APPLE iPhone 14 Plus</td>\n",
       "      <td>4.7</td>\n",
       "      <td>4,616 Ratings</td>\n",
       "      <td>346 Reviews</td>\n",
       "      <td>512 GB RO</td>\n",
       "      <td>512 GB ROM</td>\n",
       "      <td>NaN</td>\n",
       "      <td>17.02 cm (6.7 inch) Super Retina XDR Display</td>\n",
       "      <td>12MP + 12MP | 12MP Front Camera</td>\n",
       "      <td>A15 Bionic Chip, 6 Core Processor Processor</td>\n",
       "      <td>1 Year Warranty for Phone and 6 Months Warrant...</td>\n",
       "      <td>109999</td>\n",
       "      <td>Starlight</td>\n",
       "      <td>512</td>\n",
       "    </tr>\n",
       "    <tr>\n",
       "      <th>785</th>\n",
       "      <td>REDMI A1</td>\n",
       "      <td>4.3</td>\n",
       "      <td>4,641 Ratings</td>\n",
       "      <td>230 Reviews</td>\n",
       "      <td>2 GB RAM</td>\n",
       "      <td>32 GB ROM</td>\n",
       "      <td>NaN</td>\n",
       "      <td>16.56 cm (6.52 inch) Display</td>\n",
       "      <td>5MP Rear Camera</td>\n",
       "      <td>5000 mAh Battery</td>\n",
       "      <td>12 months</td>\n",
       "      <td>6599</td>\n",
       "      <td>Light Green</td>\n",
       "      <td>32</td>\n",
       "    </tr>\n",
       "    <tr>\n",
       "      <th>786</th>\n",
       "      <td>NaN</td>\n",
       "      <td>3.9</td>\n",
       "      <td>2,274 Ratings</td>\n",
       "      <td>190 Reviews</td>\n",
       "      <td>8 MB RAM</td>\n",
       "      <td>16 MB ROM</td>\n",
       "      <td>NaN</td>\n",
       "      <td>7.11 cm (2.8 inch) QVGA Display</td>\n",
       "      <td>0.3MP Rear Camera</td>\n",
       "      <td>1150 mAh Lithium Ion Battery</td>\n",
       "      <td>Unisoc 6531F Processor</td>\n",
       "      <td>3349</td>\n",
       "      <td>NaN</td>\n",
       "      <td>NaN</td>\n",
       "    </tr>\n",
       "  </tbody>\n",
       "</table>\n",
       "<p>787 rows × 14 columns</p>\n",
       "</div>"
      ],
      "text/plain": [
       "                     Model  Stars    Num_of_Ratings         Reviews  \\\n",
       "0      SAMSUNG Galaxy F13     4.4  1,26,250 Ratings   7,344 Reviews   \n",
       "1                POCO C50     4.4     3,204 Ratings     151 Reviews   \n",
       "2                POCO C50     4.4     3,204 Ratings     151 Reviews   \n",
       "3                REDMI 10     4.3  1,93,536 Ratings  12,428 Reviews   \n",
       "4                REDMI 10     4.3  1,93,536 Ratings  12,428 Reviews   \n",
       "..                     ...    ...               ...             ...   \n",
       "782   SAMSUNG Galaxy A04e     4.3        19 Ratings       2 Reviews   \n",
       "783   Infinix Hot 11 2022     4.2    17,231 Ratings   1,402 Reviews   \n",
       "784  APPLE iPhone 14 Plus     4.7     4,616 Ratings     346 Reviews   \n",
       "785              REDMI A1     4.3     4,641 Ratings     230 Reviews   \n",
       "786                    NaN    3.9     2,274 Ratings     190 Reviews   \n",
       "\n",
       "           Ram     Storage              Expandable  \\\n",
       "0    4 GB RAM    64 GB ROM    Expandable Upto 1 TB   \n",
       "1    2 GB RAM    32 GB ROM  Expandable Upto 512 GB   \n",
       "2    2 GB RAM    32 GB ROM  Expandable Upto 512 GB   \n",
       "3    4 GB RAM    64 GB ROM    Expandable Upto 1 TB   \n",
       "4    4 GB RAM    64 GB ROM    Expandable Upto 1 TB   \n",
       "..         ...         ...                     ...   \n",
       "782  4 GB RAM    128 GB RO    Expandable Upto 1 TB   \n",
       "783  4 GB RAM    64 GB ROM    Expandable Upto 1 TB   \n",
       "784  512 GB RO  512 GB ROM                     NaN   \n",
       "785  2 GB RAM    32 GB ROM                     NaN   \n",
       "786  8 MB RAM    16 MB ROM                     NaN   \n",
       "\n",
       "                                          Display  \\\n",
       "0            16.76 cm (6.6 inch) Full HD+ Display   \n",
       "1                16.56 cm (6.52 inch) HD+ Display   \n",
       "2                16.56 cm (6.52 inch) HD+ Display   \n",
       "3                 17.02 cm (6.7 inch) HD+ Display   \n",
       "4                 17.02 cm (6.7 inch) HD+ Display   \n",
       "..                                            ...   \n",
       "782               16.51 cm (6.5 inch) HD+ Display   \n",
       "783          17.02 cm (6.7 inch) Full HD+ Display   \n",
       "784  17.02 cm (6.7 inch) Super Retina XDR Display   \n",
       "785                  16.56 cm (6.52 inch) Display   \n",
       "786               7.11 cm (2.8 inch) QVGA Display   \n",
       "\n",
       "                                         Camera  \\\n",
       "0           50MP + 5MP + 2MP | 8MP Front Camera   \n",
       "1            8MP Dual Camera | 5MP Front Camera   \n",
       "2            8MP Dual Camera | 5MP Front Camera   \n",
       "3                 50MP + 2MP | 5MP Front Camera   \n",
       "4                 50MP + 2MP | 5MP Front Camera   \n",
       "..                                          ...   \n",
       "782               13MP + 2MP | 5MP Front Camera   \n",
       "783  13 MP + 2 MP Depth Lens | 8MP Front Camera   \n",
       "784             12MP + 12MP | 12MP Front Camera   \n",
       "785                             5MP Rear Camera   \n",
       "786                           0.3MP Rear Camera   \n",
       "\n",
       "                                         Battery  \\\n",
       "0                   6000 mAh Lithium Ion Battery   \n",
       "1               5000 mAh Lithium Polymer Battery   \n",
       "2               5000 mAh Lithium Polymer Battery   \n",
       "3               6000 mAh Lithium Polymer Battery   \n",
       "4               6000 mAh Lithium Polymer Battery   \n",
       "..                                           ...   \n",
       "782                 5000 mAh Lithium Ion Battery   \n",
       "783              5000 mAh Li-ion Polymer Battery   \n",
       "784  A15 Bionic Chip, 6 Core Processor Processor   \n",
       "785                             5000 mAh Battery   \n",
       "786                 1150 mAh Lithium Ion Battery   \n",
       "\n",
       "                                             Processor   Price  \\\n",
       "0                                 Exynos 850 Processor    9699   \n",
       "1    Mediatek Helio A22 Processor, Upto 2.0 GHz Pro...    5749   \n",
       "2    Mediatek Helio A22 Processor, Upto 2.0 GHz Pro...    5749   \n",
       "3                    Qualcomm Snapdragon 680 Processor    9299   \n",
       "4                    Qualcomm Snapdragon 680 Processor    9299   \n",
       "..                                                 ...     ...   \n",
       "782                       Mediatek Helio P35 Processor   11499   \n",
       "783                              UniSoc T610 Processor    9999   \n",
       "784  1 Year Warranty for Phone and 6 Months Warrant...  109999   \n",
       "785                                          12 months    6599   \n",
       "786                             Unisoc 6531F Processor    3349   \n",
       "\n",
       "               Color Memory  \n",
       "0     Waterfall Blue     64  \n",
       "1      Country Green     32  \n",
       "2         Royal Blue     32  \n",
       "3    Caribbean Green     64  \n",
       "4       Pacific Blue     64  \n",
       "..               ...    ...  \n",
       "782       Light Blue    128  \n",
       "783     Aurora Green     64  \n",
       "784        Starlight    512  \n",
       "785      Light Green     32  \n",
       "786              NaN    NaN  \n",
       "\n",
       "[787 rows x 14 columns]"
      ]
     },
     "execution_count": 7,
     "metadata": {},
     "output_type": "execute_result"
    }
   ],
   "source": [
    "# Extract model name and memory size from model column\n",
    "model_regex = r'(.*)\\((.*)\\, (\\d+) (?:GB|TB)\\)'\n",
    "df_copy[['Model', 'Color', 'Memory']] = df_copy['Model'].str.extract(model_regex)\n",
    "\n",
    "# Strip whitespace from color and memory columns\n",
    "df_copy['Color'] = df_copy['Color'].str.strip()\n",
    "df_copy['Memory'] = df_copy['Memory'].str.strip()\n",
    "\n",
    "# Remove last 6 characters (i.e. ' 64 GB)') from Model column\n",
    "df_copy['Model'] = df_copy['Model'].str.replace(model_regex, r'\\1', regex=True)\n",
    "\n",
    "df_copy"
   ]
  },
  {
   "attachments": {},
   "cell_type": "markdown",
   "metadata": {},
   "source": [
    "*I had to configure the regex code to take the memory part of the title as well...so lets drop the memeory column*  \n",
    "*to avoid repetition of the same kind of data* "
   ]
  },
  {
   "cell_type": "code",
   "execution_count": 8,
   "metadata": {},
   "outputs": [],
   "source": [
    "df_copy.drop(columns=[\"Memory\"],inplace=True)"
   ]
  },
  {
   "cell_type": "code",
   "execution_count": 9,
   "metadata": {},
   "outputs": [
    {
     "data": {
      "text/plain": [
       "0"
      ]
     },
     "execution_count": 9,
     "metadata": {},
     "output_type": "execute_result"
    }
   ],
   "source": [
    "# Now checking for duplicate vlaues\n",
    "df_copy.duplicated().sum()"
   ]
  },
  {
   "attachments": {},
   "cell_type": "markdown",
   "metadata": {},
   "source": [
    "*Step - 3: As this data was scrapped by me from the *Flipkart* website I know that there are many feature phones data in this dataframe*   \n",
    " \n",
    "*I choose to delete such values by using the price range as the logic as most feature phones are in the 1500-2500 range, as feature phones are kind of outdated and also because here we are dealing with high tech smartphones*  "
   ]
  },
  {
   "cell_type": "code",
   "execution_count": 10,
   "metadata": {},
   "outputs": [],
   "source": [
    "df_copy = df_copy[df_copy['Price'] > 2700]"
   ]
  },
  {
   "cell_type": "code",
   "execution_count": 11,
   "metadata": {},
   "outputs": [
    {
     "data": {
      "text/plain": [
       "(672, 13)"
      ]
     },
     "execution_count": 11,
     "metadata": {},
     "output_type": "execute_result"
    }
   ],
   "source": [
    "df_copy.shape"
   ]
  },
  {
   "cell_type": "markdown",
   "metadata": {},
   "source": [
    "*As we can from the shape...there were around 100 or so feature phones in the data*"
   ]
  },
  {
   "cell_type": "code",
   "execution_count": 12,
   "metadata": {},
   "outputs": [
    {
     "data": {
      "text/plain": [
       "Model               8\n",
       "Stars               3\n",
       "Num_of_Ratings      3\n",
       "Reviews             3\n",
       "Ram                 0\n",
       "Storage             0\n",
       "Expandable        282\n",
       "Display             0\n",
       "Camera              0\n",
       "Battery             0\n",
       "Processor           0\n",
       "Price               0\n",
       "Color               8\n",
       "dtype: int64"
      ]
     },
     "execution_count": 12,
     "metadata": {},
     "output_type": "execute_result"
    }
   ],
   "source": [
    "# Rechecking the null values\n",
    "df_copy.isnull().sum()"
   ]
  },
  {
   "cell_type": "code",
   "execution_count": 13,
   "metadata": {},
   "outputs": [],
   "source": [
    "# As we can see the Expamdable column has 282 missing values, lets try and fill them\n",
    "mode_value = df_copy['Expandable'].mode()[0]\n",
    "df_copy['Expandable'] = df_copy['Expandable'].fillna(mode_value)\n",
    "df_copy.dropna(inplace=True)\n",
    "# Iam using the mode value to fill the missing values since the expandable option is pretty generic for most \n",
    "# smartphones."
   ]
  },
  {
   "cell_type": "code",
   "execution_count": 14,
   "metadata": {},
   "outputs": [
    {
     "data": {
      "text/plain": [
       "Model             0\n",
       "Stars             0\n",
       "Num_of_Ratings    0\n",
       "Reviews           0\n",
       "Ram               0\n",
       "Storage           0\n",
       "Expandable        0\n",
       "Display           0\n",
       "Camera            0\n",
       "Battery           0\n",
       "Processor         0\n",
       "Price             0\n",
       "Color             0\n",
       "dtype: int64"
      ]
     },
     "execution_count": 14,
     "metadata": {},
     "output_type": "execute_result"
    }
   ],
   "source": [
    "# Checking if the values have been imputed\n",
    "df_copy.isnull().sum()"
   ]
  },
  {
   "cell_type": "markdown",
   "metadata": {},
   "source": [
    "*Converting the `Stars` column to numerical values*"
   ]
  },
  {
   "cell_type": "code",
   "execution_count": 15,
   "metadata": {},
   "outputs": [],
   "source": [
    "df_copy['Stars'] = df_copy['Stars'].astype(float)"
   ]
  },
  {
   "cell_type": "markdown",
   "metadata": {},
   "source": [
    "*Converting the Ratings and the reviews to numerical values*"
   ]
  },
  {
   "cell_type": "code",
   "execution_count": 16,
   "metadata": {},
   "outputs": [],
   "source": [
    "df_copy['Num_Ratings'] = df_copy['Num_of_Ratings'].str.replace(',', '').str.extract('(\\d+)').astype(int)\n",
    "df_copy['Num_Reviews'] = df_copy['Reviews'].str.replace(',', '').str.extract('(\\d+)').astype(int)\n",
    "\n",
    "# Drop the original columns\n",
    "df_copy.drop(['Num_of_Ratings', 'Reviews'], axis=1, inplace=True)"
   ]
  },
  {
   "cell_type": "markdown",
   "metadata": {},
   "source": [
    "*Inspecting the Ram column*"
   ]
  },
  {
   "cell_type": "code",
   "execution_count": 17,
   "metadata": {},
   "outputs": [
    {
     "data": {
      "text/plain": [
       "array(['4 GB RAM ', '2 GB RAM ', '128 GB RO', '6 GB RAM ', '64 GB RO',\n",
       "       '8 GB RAM ', '3 GB RAM ', '12 GB RAM ', '256 GB RO', '4 MB RAM ',\n",
       "       '512 GB RO'], dtype=object)"
      ]
     },
     "execution_count": 17,
     "metadata": {},
     "output_type": "execute_result"
    }
   ],
   "source": [
    "df_copy.Ram.unique()"
   ]
  },
  {
   "cell_type": "markdown",
   "metadata": {},
   "source": [
    "*Fixing the Anamolies in the `Ram` column*"
   ]
  },
  {
   "cell_type": "code",
   "execution_count": 18,
   "metadata": {},
   "outputs": [],
   "source": [
    "# Find the mode of the Ram column\n",
    "mode_value = df_copy['Ram'].mode()[0]\n",
    "\n",
    "# Create a list of values to replace\n",
    "replace_values = ['128 GB RO', '64 GB RO', '256 GB RO', '4 MB RAM ', '512 GB RO']\n",
    "\n",
    "# Replace the values with the mode value\n",
    "df_copy['Ram'] = df_copy['Ram'].replace(replace_values, mode_value)\n"
   ]
  },
  {
   "cell_type": "code",
   "execution_count": 19,
   "metadata": {},
   "outputs": [
    {
     "data": {
      "text/plain": [
       "array(['4 GB RAM ', '2 GB RAM ', '6 GB RAM ', '8 GB RAM ', '3 GB RAM ',\n",
       "       '12 GB RAM '], dtype=object)"
      ]
     },
     "execution_count": 19,
     "metadata": {},
     "output_type": "execute_result"
    }
   ],
   "source": [
    "df_copy.Ram.unique()"
   ]
  },
  {
   "cell_type": "markdown",
   "metadata": {},
   "source": [
    "*As you can see the values now make sense for the ram column*"
   ]
  },
  {
   "cell_type": "code",
   "execution_count": 20,
   "metadata": {},
   "outputs": [
    {
     "data": {
      "text/plain": [
       "array(['64 GB ROM', '32 GB ROM', '128 GB ROM', '128 GB RO', '256 GB RO',\n",
       "       '256 GB ROM', '16 GB ROM', '512 GB ROM'], dtype=object)"
      ]
     },
     "execution_count": 20,
     "metadata": {},
     "output_type": "execute_result"
    }
   ],
   "source": [
    "df_copy.Storage.unique()"
   ]
  },
  {
   "cell_type": "markdown",
   "metadata": {},
   "source": [
    "*Inspecting the Storage column*"
   ]
  },
  {
   "cell_type": "code",
   "execution_count": 21,
   "metadata": {},
   "outputs": [
    {
     "data": {
      "text/plain": [
       "array(['64 GB ROM', '32 GB ROM', '128 GB ROM', '128 GB RO', '256 GB RO',\n",
       "       '256 GB ROM', '16 GB ROM', '512 GB ROM'], dtype=object)"
      ]
     },
     "execution_count": 21,
     "metadata": {},
     "output_type": "execute_result"
    }
   ],
   "source": [
    "df_copy.Storage.unique()"
   ]
  },
  {
   "cell_type": "markdown",
   "metadata": {},
   "source": [
    "*Replacing the typo errors with the column*"
   ]
  },
  {
   "cell_type": "code",
   "execution_count": 22,
   "metadata": {},
   "outputs": [],
   "source": [
    "df_copy['Storage'] = df_copy['Storage'].str.replace('128 GB RO', '128 GB ROM')\n",
    "df_copy['Storage'] = df_copy['Storage'].str.replace('256 GB RO', '256 GB ROM')"
   ]
  },
  {
   "cell_type": "code",
   "execution_count": 23,
   "metadata": {},
   "outputs": [
    {
     "data": {
      "text/plain": [
       "array(['64 GB ROM', '32 GB ROM', '128 GB ROMM', '128 GB ROM',\n",
       "       '256 GB ROM', '256 GB ROMM', '16 GB ROM', '512 GB ROM'],\n",
       "      dtype=object)"
      ]
     },
     "execution_count": 23,
     "metadata": {},
     "output_type": "execute_result"
    }
   ],
   "source": [
    "# Rechecking the values\n",
    "df_copy.Storage.unique()\n",
    "\n",
    "# This gave us some more errors as it didnt work as intended...so i had to re run the code with the\n",
    "# updated typos"
   ]
  },
  {
   "cell_type": "code",
   "execution_count": 24,
   "metadata": {},
   "outputs": [],
   "source": [
    "df_copy['Storage'] = df_copy['Storage'].str.replace('128 GB ROMM', '128 GB ROM')\n",
    "df_copy['Storage'] = df_copy['Storage'].str.replace('256 GB ROMM', '256 GB ROM')"
   ]
  },
  {
   "cell_type": "code",
   "execution_count": 25,
   "metadata": {},
   "outputs": [
    {
     "data": {
      "text/plain": [
       "array(['64 GB ROM', '32 GB ROM', '128 GB ROM', '256 GB ROM', '16 GB ROM',\n",
       "       '512 GB ROM'], dtype=object)"
      ]
     },
     "execution_count": 25,
     "metadata": {},
     "output_type": "execute_result"
    }
   ],
   "source": [
    "# Rechecking the values\n",
    "df_copy.Storage.unique()"
   ]
  },
  {
   "cell_type": "markdown",
   "metadata": {},
   "source": [
    "*Checking the expandable column*"
   ]
  },
  {
   "cell_type": "code",
   "execution_count": 26,
   "metadata": {},
   "outputs": [
    {
     "data": {
      "text/plain": [
       "array(['Expandable Upto 1 TB', 'Expandable Upto 512 GB',\n",
       "       'Expandable Upto 256 GB', ' Expandable Upto 1 TB',\n",
       "       'Expandable Upto 2 TB', ' Expandable Upto 512 GB',\n",
       "       ' Expandable Upto 256 GB', ' Expandable Upto 2 TB',\n",
       "       'Expandable Upto 128 GB'], dtype=object)"
      ]
     },
     "execution_count": 26,
     "metadata": {},
     "output_type": "execute_result"
    }
   ],
   "source": [
    "df_copy.Expandable.unique()"
   ]
  },
  {
   "cell_type": "markdown",
   "metadata": {},
   "source": [
    "*Fixing the repeated values*"
   ]
  },
  {
   "cell_type": "code",
   "execution_count": 27,
   "metadata": {},
   "outputs": [],
   "source": [
    "df_copy['Expandable'] = df_copy['Expandable'].str.replace(' Expandable Upto 1 TB', 'Expandable Upto 1 TB')\n",
    "df_copy['Expandable'] = df_copy['Expandable'].str.replace(' Expandable Upto 512 GB', 'Expandable Upto 512 GB')\n",
    "df_copy['Expandable'] = df_copy['Expandable'].str.replace(' Expandable Upto 256 GB', 'Expandable Upto 256 GB')\n",
    "df_copy['Expandable'] = df_copy['Expandable'].str.replace(' Expandable Upto 2 TB', 'Expandable Upto 2 TB')"
   ]
  },
  {
   "cell_type": "code",
   "execution_count": 28,
   "metadata": {},
   "outputs": [
    {
     "data": {
      "text/plain": [
       "array(['Expandable Upto 1 TB', 'Expandable Upto 512 GB',\n",
       "       'Expandable Upto 256 GB', 'Expandable Upto 2 TB',\n",
       "       'Expandable Upto 128 GB'], dtype=object)"
      ]
     },
     "execution_count": 28,
     "metadata": {},
     "output_type": "execute_result"
    }
   ],
   "source": [
    "# Rechecking the unique values\n",
    "df_copy.Expandable.unique()"
   ]
  },
  {
   "cell_type": "markdown",
   "metadata": {},
   "source": [
    "*Checking the Display Column*"
   ]
  },
  {
   "cell_type": "code",
   "execution_count": 29,
   "metadata": {},
   "outputs": [],
   "source": [
    "#df_copy.Display.unique()"
   ]
  },
  {
   "attachments": {},
   "cell_type": "markdown",
   "metadata": {},
   "source": [
    "*The `Display` column needs some rectifications...we will extract the size in inches for simplicity*"
   ]
  },
  {
   "cell_type": "code",
   "execution_count": 30,
   "metadata": {},
   "outputs": [],
   "source": [
    "def extract_display_info(df_copy):\n",
    "    \n",
    "    # Extract display size in inches\n",
    "    try:\n",
    "        df_copy[\"display_inches\"] = df_copy[\"Display\"].apply(lambda x: float(re.findall(r\"\\d+\\.\\d+|\\d+(?= inch)\", x)[0]))\n",
    "    except:\n",
    "        df_copy[\"display_inches\"] = np.nan\n"
   ]
  },
  {
   "cell_type": "code",
   "execution_count": 31,
   "metadata": {},
   "outputs": [],
   "source": [
    "extract_display_info(df_copy)"
   ]
  },
  {
   "cell_type": "code",
   "execution_count": 32,
   "metadata": {},
   "outputs": [
    {
     "data": {
      "text/plain": [
       "array([16.76, 16.56, 17.02, 17.32, 15.49, 16.26, 16.51, 16.94, 16.71,\n",
       "       16.64, 16.36, 15.6 , 16.74, 16.33, 16.66, 16.59, 17.22, 17.04,\n",
       "       16.54, 17.53, 17.07, 17.27, 16.97, 12.7 , 16.21, 16.3 , 16.81,\n",
       "       16.43, 13.84, 16.  , 16.55, 17.65, 15.8 ])"
      ]
     },
     "execution_count": 32,
     "metadata": {},
     "output_type": "execute_result"
    }
   ],
   "source": [
    "df_copy.display_inches.unique()"
   ]
  },
  {
   "cell_type": "code",
   "execution_count": 33,
   "metadata": {},
   "outputs": [],
   "source": [
    "# Dropping the Display column as it is no longer required\n",
    "df_copy.drop(columns=[\"Display\"],inplace=True)"
   ]
  },
  {
   "cell_type": "markdown",
   "metadata": {},
   "source": [
    "*Checking the camera column*"
   ]
  },
  {
   "cell_type": "code",
   "execution_count": 34,
   "metadata": {},
   "outputs": [],
   "source": [
    "#df.Camera.unique()"
   ]
  },
  {
   "cell_type": "markdown",
   "metadata": {},
   "source": [
    "*Preprocessing for the Camera column*"
   ]
  },
  {
   "cell_type": "code",
   "execution_count": 35,
   "metadata": {},
   "outputs": [],
   "source": [
    "# Since the Camera column has so many values, and the data is cluttered\n",
    "# we are just extracting the number of cameras from the camera column for simplicity\n",
    "# Please note that this is the toal number of cameras including the front and the back cameras\n",
    "\n",
    "\n",
    "def count_cameras(camera_str):\n",
    "    if \"Camera\" not in camera_str:\n",
    "        return 0\n",
    "    else:\n",
    "        cameras = camera_str.split(\"|\")[0]\n",
    "        return len(cameras.split(\"+\"))\n",
    "\n",
    "df[\"Num_camera\"] = df[\"Camera\"].apply(count_cameras)"
   ]
  },
  {
   "cell_type": "code",
   "execution_count": 36,
   "metadata": {},
   "outputs": [],
   "source": [
    "df_copy['Num_camera'] = df_copy['Camera'].apply(count_cameras)"
   ]
  },
  {
   "cell_type": "code",
   "execution_count": 37,
   "metadata": {},
   "outputs": [
    {
     "data": {
      "text/plain": [
       "array([3, 1, 2, 4, 0], dtype=int64)"
      ]
     },
     "execution_count": 37,
     "metadata": {},
     "output_type": "execute_result"
    }
   ],
   "source": [
    "df_copy.Num_camera.unique()"
   ]
  },
  {
   "cell_type": "markdown",
   "metadata": {},
   "source": [
    "*Dropping the Camera column as it is no longer required*"
   ]
  },
  {
   "cell_type": "code",
   "execution_count": 38,
   "metadata": {},
   "outputs": [],
   "source": [
    "df_copy.drop(columns=[\"Camera\"],inplace=True)"
   ]
  },
  {
   "cell_type": "markdown",
   "metadata": {},
   "source": [
    "*Analysing the Batttery column*"
   ]
  },
  {
   "cell_type": "code",
   "execution_count": 39,
   "metadata": {},
   "outputs": [],
   "source": [
    "#df_copy.Battery.unique()"
   ]
  },
  {
   "cell_type": "code",
   "execution_count": 40,
   "metadata": {},
   "outputs": [],
   "source": [
    "# Writing a custom function to extract the numerical values for the battery capacity and creating a new column wit it\n",
    "\n",
    "def extract_battery_info(df_copy):\n",
    "    # Extract battery capacity in mAh\n",
    "    try:\n",
    "        df_copy[\"battery_mah\"] = df_copy[\"Battery\"].apply(lambda x: int(re.findall(r\"\\d+\", x)[0]))\n",
    "    except:\n",
    "        df_copy[\"battery_mah\"] = np.nan"
   ]
  },
  {
   "cell_type": "code",
   "execution_count": 41,
   "metadata": {},
   "outputs": [],
   "source": [
    "extract_battery_info(df_copy)"
   ]
  },
  {
   "cell_type": "code",
   "execution_count": 42,
   "metadata": {},
   "outputs": [
    {
     "data": {
      "text/plain": [
       "array([6000, 5000,   15,   13, 4410, 4700, 4310, 4500, 4600, 7000, 4020,\n",
       "       4980, 4800, 3900, 3020, 5080, 4050, 4000,   14, 5020, 4400, 3100,\n",
       "       3000, 5200, 4270, 4926, 4230,   16, 3300, 4300, 5160, 4250, 5018,\n",
       "       5065, 4520, 4610], dtype=int64)"
      ]
     },
     "execution_count": 42,
     "metadata": {},
     "output_type": "execute_result"
    }
   ],
   "source": [
    "df_copy.battery_mah.unique()"
   ]
  },
  {
   "cell_type": "code",
   "execution_count": 43,
   "metadata": {},
   "outputs": [
    {
     "data": {
      "text/plain": [
       "0    5000\n",
       "Name: battery_mah, dtype: int64"
      ]
     },
     "execution_count": 43,
     "metadata": {},
     "output_type": "execute_result"
    }
   ],
   "source": [
    "df_copy.battery_mah.mode()"
   ]
  },
  {
   "cell_type": "code",
   "execution_count": 44,
   "metadata": {},
   "outputs": [],
   "source": [
    "# Replacing the wrong values with the actual values\n",
    "df_copy['battery_mah'] = df_copy['battery_mah'].replace(13, 4500)\n",
    "df_copy['battery_mah'] = df_copy['battery_mah'].replace(14, 5000)\n",
    "df_copy['battery_mah'] = df_copy['battery_mah'].replace(15, 4500)\n",
    "df_copy['battery_mah'] = df_copy['battery_mah'].replace(16, 4800)"
   ]
  },
  {
   "cell_type": "code",
   "execution_count": 45,
   "metadata": {},
   "outputs": [
    {
     "data": {
      "text/plain": [
       "array([6000, 5000, 4500, 4410, 4700, 4310, 4600, 7000, 4020, 4980, 4800,\n",
       "       3900, 3020, 5080, 4050, 4000, 5020, 4400, 3100, 3000, 5200, 4270,\n",
       "       4926, 4230, 3300, 4300, 5160, 4250, 5018, 5065, 4520, 4610],\n",
       "      dtype=int64)"
      ]
     },
     "execution_count": 45,
     "metadata": {},
     "output_type": "execute_result"
    }
   ],
   "source": [
    "df_copy.battery_mah.unique()"
   ]
  },
  {
   "cell_type": "markdown",
   "metadata": {},
   "source": [
    "*Analysing the processor column*"
   ]
  },
  {
   "cell_type": "code",
   "execution_count": 46,
   "metadata": {},
   "outputs": [],
   "source": [
    "#df_copy.Processor.unique()"
   ]
  },
  {
   "cell_type": "code",
   "execution_count": 47,
   "metadata": {},
   "outputs": [],
   "source": [
    "df_copy['Processor'].replace(['1 Year Warranty for Phone and 6 Months Warranty for In-Box Accessories',\n",
    "                              'Brand Warranty of 1 Year',\n",
    "                              'Brand Warranty for 1 Year',\n",
    "                              '1 Year Warranty',\n",
    "                              '12 Months Warranty',\n",
    "                              '1 YEAR ON MOBILE AND 6 MONTHS FOR ACCESORIES',\n",
    "                              '1 Year Manufacturer Warranty for Device and 6 Months Manufacturer Warranty for In-Box',\n",
    "                              '1 Year of Device & 6 Months for In-Box Accessories',\n",
    "                              '1 Year Manufacturer Warranty for Handset and 6 Months Warranty for In the Box Accessories',\n",
    "                              '12 months on phone & 6 months on accessories',\n",
    "                              '12 Months brand Warranty , Domestic Only',\n",
    "                              'One Time Screen Replacement within 100 days of purchase 1 Year warranty on mobile device & 6 months on accessories',\n",
    "                              'One Time Screen Replacement within 100 days of purchase, 1 Year warranty on mobile device & 6 months on accessories.',\n",
    "                              '12 MONTHS', \n",
    "                              '12 Months warranty',\n",
    "                              '12 Months Brand Warranty'], np.nan, inplace=True)"
   ]
  },
  {
   "cell_type": "code",
   "execution_count": 49,
   "metadata": {},
   "outputs": [],
   "source": [
    "df_copy['Processor'].replace(['12 months',\n",
    "                              '12 Months',\n",
    "                              'One Time Screen Replacement within 100 days of purchase 1 Year warranty on mobile device &  6 months on accessories',\n",
    "                              'One Time Screen Replacement within 100 days of purchase, 1 Year warranty on mobile device &  6 months on accessories.',\n",
    "                              '1 Year Manufacturer Warranty for Phone and 6 Months Warranty for in the Box Accessories',\n",
    "                              '1 Year Manufacturer Warranty for Device and 6 Months Manufacturer Warranty for In-Box Accessories',\n",
    "                              '1 Year Manufacturer Warranty for Phone and 6 Months Warranty for In the Box Accessories',\n",
    "                              '1 Year for Handset and 6 Months for Inbox Accessories',\n",
    "                              '\" 1 year manufacturer warranty for device and 6 months manufacturer warranty for in-box accessories including batteries from the date of purchase\"',\n",
    "                              '1 year manufacturer warranty for device and 6 months manufacturer warranty for in-box accessories including batteries from the date of purchase',\n",
    "                              '12Months Brand Warranty',\n",
    "                              '1 Year  Manufacturer Warranty',\n",
    "                              '1 Year Manufacturer Warranty for Phone and 6 Months Warranty for In-Box Accessories',\n",
    "                              '1 Year warranty on mobile device &  6 months on accessories.',\n",
    "                              '1 year manufacturing warranty for mobile and 6 months for box accessories',\n",
    "                              '1 Year',\n",
    "                              ], np.nan, inplace=True)"
   ]
  },
  {
   "cell_type": "code",
   "execution_count": 50,
   "metadata": {},
   "outputs": [
    {
     "data": {
      "text/plain": [
       "array(['Exynos 850 Processor',\n",
       "       'Mediatek Helio A22 Processor, Upto 2.0 GHz Processor',\n",
       "       'Qualcomm Snapdragon 680 Processor', 'MediaTek G37 Processor', nan,\n",
       "       'Qualcomm Snapdragon 750G Processor',\n",
       "       'Mediatek Dimensity 810 Processor', 'Mediatek Helio G85 Processor',\n",
       "       'Unisoc T606 Processor', 'Meditek Helio G37 Processor',\n",
       "       'Qualcomm Snapdragon 695 5G Processor',\n",
       "       'Mediatek Dimensity 700 Processor', 'Mediatek Helio A22 Processor',\n",
       "       'Unisoc Spreadtrum SC9863A1 Processor',\n",
       "       'Mediatek Helio G37 Processor', 'Mediatek Helio P35 Processor',\n",
       "       'UNISOC T700 Processor', 'Google Tensor Processor',\n",
       "       'Unisoc Tiger T616 Processor', 'Unisoc T612 Processor',\n",
       "       'Unisoc T616 Processor', 'Mediatek Helio G95 Processor',\n",
       "       'Mediatek Helio G96 Processor', 'Mediatek Helio G35 Processor',\n",
       "       'Qualcomm Snapdragon 778G Processor',\n",
       "       'Mediatek Helio G99 Processor', 'Dimensity 810 Processor',\n",
       "       'MediaTek Helio G35 Processor',\n",
       "       'Qualcomm Snapdragon 778G 5G Mobile Platform Processor',\n",
       "       'MediaTek Helio G25 Processor', 'MediaTek G35 Processor',\n",
       "       'Mediatek Dimensity 810 5G Processor',\n",
       "       'MediaTek Helio P35 Processor', 'Mediatek Dimensity 920 Processor',\n",
       "       'Unisoc SC9863A/ Unisoc SC9863A1 Processor',\n",
       "       'Unisoc T612 processor Processor',\n",
       "       'MediaTek Dimensity 800U Processor', 'Octa-core Processor',\n",
       "       'Qualcomm Snapdragon 778G+ Processor',\n",
       "       'Qualcomm Snapdragon 662 Processor', 'Unisoc T610 Processor',\n",
       "       'Mediatek Helio G99 Octa Core Processor',\n",
       "       'Mediatek Dimensity 8200 Processor',\n",
       "       'Mediatek Dimensity 1080 5G Processor',\n",
       "       'Mediatek Dimensity 1080 Processor',\n",
       "       'MediaTek Helio G88 Processor',\n",
       "       'Qualcomm Snapdragon 778G Plus Processor',\n",
       "       'Mediatek Helio G95 Octa Core Processor',\n",
       "       'SEC S5E8535 (Exynos 1330) Processor', 'MediaTek P22 Processor',\n",
       "       'Qualcomm Snapdragon 695 Processor',\n",
       "       'MediaTek Helio G85 Processor', 'Mediatek Helio G70 Processor',\n",
       "       'Octa Core Processor', 'Qualcomm Snapdragon 8 Gen 2 Processor',\n",
       "       'Helio G88 Processor', 'Turbo Processor Snapdragon 695 Processor',\n",
       "       'Qualcomm Snapdragon 695 (SM6375) Processor',\n",
       "       'Qualcomm Snapdragon 732G Processor', 'Mediatek G96 Processor',\n",
       "       'Qualcomm Snapdragon 870 Processor',\n",
       "       'Mediatek Dimensity 900 Processor',\n",
       "       'Qualcomm Snapdragon 8 Gen 1 Processor',\n",
       "       'MediaTek Helio G37 Processor', 'MTK Helio G35 Processor',\n",
       "       'Quad Core Processor', 'ARM Cortex A75 Octa Core Processor',\n",
       "       'Unisoc 9863A Processor', 'Mediatek G99 Processor',\n",
       "       'Mediatek MT6769 Helio G70 Processor', 'Ceramic Shield',\n",
       "       'SC9863A Processor', 'Exynos Octa Core Processor',\n",
       "       'MediaTek Dimensity 700 (MT6833) Processor',\n",
       "       'MediaTek Helio G85 (MT6769V/CZ) Processor',\n",
       "       'Qualcomm Snapdragon 888 + Processor',\n",
       "       'MediaTek Helio G96 Processor',\n",
       "       'Qualcomm Snapdragon 680 (SM6225) Processor',\n",
       "       'Unisoc SC9863 Processor', 'MediaTek MT8781 Helio G99 Processor',\n",
       "       'Octa-core(EXYNOS) Processor', 'Unisoc SC9863A Processor',\n",
       "       'MediaTek Helio A20 Processor', 'MediaTek Helio G70 Processor',\n",
       "       'Mediatek Dimensity 1300 Processor',\n",
       "       'Qualcomm SM6225 Snapdragon 680 4G (6 nm) Processor',\n",
       "       'MediaTek Helio G95 Processor', 'Helio A20 Processor',\n",
       "       'Unisoc T618 Processor', 'Qualcomm Snapdragon 439 Processor',\n",
       "       'Helio G25 Processor', 'Google Tensor G2 Processor',\n",
       "       'Qualcomm Snapdragon 888 Plus (SM8350) Processor',\n",
       "       'MediaTek Helio G80 Processor', 'Mediatek Helio G25 Processor',\n",
       "       'Exynos Octa Core Processor Processor',\n",
       "       'Mediatek Helio P22 Processor', '1 year',\n",
       "       'Qualcomm Snapdragon 888 Octa-Core Processor',\n",
       "       'Qualcomm Snapdragon 860 Processor',\n",
       "       'Mediatek Dimensity 1200 Processor',\n",
       "       'Qualcomm Snapdragon 720G Processor', 'UniSoc T610 Processor',\n",
       "       'Mediatek Dimensity 9000 Processor',\n",
       "       'MediaTek Dimensity 700 Processor', 'Mediatek Helio G88 Processor',\n",
       "       'Exynos 1280 Processor', 'MediaTek Dimensity 1200 Processor',\n",
       "       'Helio A22 Processor', 'Mediatek Dimensity 8100 Processor',\n",
       "       'Snapdragon 720G Processor', 'Qualcomm Snapdragon 888 Processor',\n",
       "       'Qualcomm Snapdragon 730G Processor',\n",
       "       'Qualcomm Snapdragon 8+ Gen 1 Processor'], dtype=object)"
      ]
     },
     "execution_count": 50,
     "metadata": {},
     "output_type": "execute_result"
    }
   ],
   "source": [
    "df_copy.Processor.unique()"
   ]
  },
  {
   "cell_type": "code",
   "execution_count": 51,
   "metadata": {},
   "outputs": [
    {
     "data": {
      "text/plain": [
       "(661, 14)"
      ]
     },
     "execution_count": 51,
     "metadata": {},
     "output_type": "execute_result"
    }
   ],
   "source": [
    "df_copy.shape"
   ]
  },
  {
   "cell_type": "code",
   "execution_count": 52,
   "metadata": {},
   "outputs": [],
   "source": [
    "# Dropping all the observations for the i-phones as the processor information was not accurate\n",
    "df_copy.drop(df_copy[df_copy['Model'].str.contains('apple', case=False)].index, inplace=True)\n"
   ]
  },
  {
   "cell_type": "code",
   "execution_count": 53,
   "metadata": {},
   "outputs": [
    {
     "data": {
      "text/plain": [
       "(617, 14)"
      ]
     },
     "execution_count": 53,
     "metadata": {},
     "output_type": "execute_result"
    }
   ],
   "source": [
    "df_copy.shape"
   ]
  },
  {
   "cell_type": "code",
   "execution_count": 54,
   "metadata": {},
   "outputs": [],
   "source": [
    "def add_processor_name_column(df):\n",
    "    # Extract the string values before \"Processor\" in the \"Product_Name\" column\n",
    "    processor_names = df[\"Processor\"].str.extract(r\"^(.+)\\sProcessor\")\n",
    "\n",
    "    # Add the \"Processor_name\" column to the DataFrame with the extracted values\n",
    "    df[\"Processor_name\"] = processor_names"
   ]
  },
  {
   "cell_type": "code",
   "execution_count": 55,
   "metadata": {},
   "outputs": [],
   "source": [
    "add_processor_name_column(df_copy)"
   ]
  },
  {
   "cell_type": "code",
   "execution_count": 56,
   "metadata": {},
   "outputs": [
    {
     "data": {
      "text/plain": [
       "112"
      ]
     },
     "execution_count": 56,
     "metadata": {},
     "output_type": "execute_result"
    }
   ],
   "source": [
    "df_copy.Processor_name.isnull().sum()"
   ]
  },
  {
   "cell_type": "code",
   "execution_count": 57,
   "metadata": {},
   "outputs": [],
   "source": [
    "# calculate the mode value of Processor_name\n",
    "mode_value = df_copy['Processor_name'].mode()[0]\n",
    "\n",
    "# fill missing values with mode\n",
    "df_copy['Processor_name'].fillna(mode_value, inplace=True)"
   ]
  },
  {
   "cell_type": "code",
   "execution_count": 58,
   "metadata": {},
   "outputs": [
    {
     "data": {
      "text/plain": [
       "Model               0\n",
       "Stars               0\n",
       "Ram                 0\n",
       "Storage             0\n",
       "Expandable          0\n",
       "Battery             0\n",
       "Processor         111\n",
       "Price               0\n",
       "Color               0\n",
       "Num_Ratings         0\n",
       "Num_Reviews         0\n",
       "display_inches      0\n",
       "Num_camera          0\n",
       "battery_mah         0\n",
       "Processor_name      0\n",
       "dtype: int64"
      ]
     },
     "execution_count": 58,
     "metadata": {},
     "output_type": "execute_result"
    }
   ],
   "source": [
    "df_copy.isnull().sum()"
   ]
  },
  {
   "cell_type": "markdown",
   "metadata": {},
   "source": [
    "*Finally Dropping the unwanted columns*"
   ]
  },
  {
   "cell_type": "code",
   "execution_count": 59,
   "metadata": {},
   "outputs": [],
   "source": [
    "df_copy.drop(columns=['Battery','Processor'],inplace=True)"
   ]
  },
  {
   "cell_type": "code",
   "execution_count": 60,
   "metadata": {},
   "outputs": [],
   "source": [
    "# Changing the order of the columns for better understanding\n",
    "\n",
    "df_copy = df_copy[['Model', 'Color', 'Stars', 'Num_Ratings', 'Num_Reviews', 'Ram', 'Storage', 'Expandable', 'Processor_name', 'display_inches', 'Num_camera', 'battery_mah', 'Price']]\n"
   ]
  },
  {
   "cell_type": "code",
   "execution_count": 61,
   "metadata": {},
   "outputs": [],
   "source": [
    "df_copy.reset_index(inplace=True)"
   ]
  },
  {
   "cell_type": "code",
   "execution_count": 62,
   "metadata": {},
   "outputs": [
    {
     "data": {
      "text/plain": [
       "Index(['index', 'Model', 'Color', 'Stars', 'Num_Ratings', 'Num_Reviews', 'Ram',\n",
       "       'Storage', 'Expandable', 'Processor_name', 'display_inches',\n",
       "       'Num_camera', 'battery_mah', 'Price'],\n",
       "      dtype='object')"
      ]
     },
     "execution_count": 62,
     "metadata": {},
     "output_type": "execute_result"
    }
   ],
   "source": [
    "df_copy.columns"
   ]
  },
  {
   "cell_type": "code",
   "execution_count": 63,
   "metadata": {},
   "outputs": [],
   "source": [
    "df_copy.drop(columns=['index'],inplace=True)"
   ]
  },
  {
   "cell_type": "code",
   "execution_count": 66,
   "metadata": {},
   "outputs": [],
   "source": [
    "# create a function to map processor names to categories\n",
    "def map_processor_name(name):\n",
    "    if \"mediatek\" in name.lower():\n",
    "        return \"Mediatek processor\"\n",
    "    elif \"qualcomm\" in name.lower():\n",
    "        return \"Qualcomm processor\"\n",
    "    elif \"unisoc\" in name.lower():\n",
    "        return \"Unisoc processor\"\n",
    "    elif \"exynos\" in name.lower():\n",
    "        return \"Exynos processor\"\n",
    "    elif \"tensor\" in name.lower():\n",
    "        return \"Google Tensor processor\"\n",
    "    elif \"helio\" in name.lower():\n",
    "        return \"Helio processor\"\n",
    "    else:\n",
    "        return \"Other processor\"\n",
    "\n",
    "# apply the function to the processor_name column\n",
    "df_copy['processor_category'] = df_copy['Processor_name'].apply(map_processor_name)"
   ]
  },
  {
   "cell_type": "code",
   "execution_count": 69,
   "metadata": {},
   "outputs": [],
   "source": [
    "# Dropping the Processor column as it is no longer required\n",
    "df_copy.drop(\"Processor_name\",axis=1,inplace=True)"
   ]
  },
  {
   "cell_type": "code",
   "execution_count": 71,
   "metadata": {},
   "outputs": [
    {
     "data": {
      "text/plain": [
       "array(['Exynos processor', 'Mediatek processor', 'Qualcomm processor',\n",
       "       'Unisoc processor', 'Helio processor', 'Google Tensor processor',\n",
       "       'Other processor'], dtype=object)"
      ]
     },
     "execution_count": 71,
     "metadata": {},
     "output_type": "execute_result"
    }
   ],
   "source": [
    "df_copy.processor_category.unique()"
   ]
  },
  {
   "cell_type": "markdown",
   "metadata": {},
   "source": [
    "*Analysing the Colour Column*"
   ]
  },
  {
   "cell_type": "code",
   "execution_count": 72,
   "metadata": {},
   "outputs": [
    {
     "data": {
      "text/plain": [
       "array(['Waterfall Blue', 'Country Green', 'Royal Blue', 'Caribbean Green',\n",
       "       'Pacific Blue', 'Nightsky Green', 'Midnight Black', 'Aurora Green',\n",
       "       'Racing Black', 'Fantasy Purple', 'Luna Blue', 'Sunrise Copper',\n",
       "       'Forest Green', 'Shadow Black', 'Aqua Blue', 'Yellow',\n",
       "       'Charcoal Grey', 'Baby Blue', 'Copper Blush', 'Metallic White',\n",
       "       'Sunrise Orange', 'Creamy White', 'Exploratory Blue', '7° Purple',\n",
       "       'Meteorite Grey', 'Alpine White', 'Laser Blue', 'Power Black',\n",
       "       'Frosted Blue', 'Force Black', 'Origin Blue', 'Aqua Sky',\n",
       "       'Night Black', 'Azure Blue', 'Mineral Gray', 'Cosmic Black',\n",
       "       'Satin Silver', 'Midnight Gray', 'Turquoise Cyan', 'Polar Black',\n",
       "       'Laser Black', 'Jade Purple', 'Cool Blue', 'Carbon Gray',\n",
       "       'Metaverse Blue', 'Opal Green', 'Starry Sky', 'Midnight Galaxy',\n",
       "       'Chalk', 'Glowing Black', 'Denim Black', 'Electric Blue',\n",
       "       'Space Blue', 'Gravity Black', 'Glowing Green', 'Deep Ocean Blue',\n",
       "       'Mystique Green', 'Frost White', 'Meterorite Grey', 'Lake Blue',\n",
       "       'Horizon Blue', 'Polar Blue', 'Gold', 'Blaster Green', 'Navy Blue',\n",
       "       'Slate Grey', 'Sea Blue', 'Charcoal Black', 'Charcoal',\n",
       "       'Shadow Gray', 'Night Sea', 'Bamboo Green', 'Sandy Gold',\n",
       "       'Turbo Cyan', 'Lightsaber Green', 'Carbon Black', 'Astral Black',\n",
       "       'Light Blue', 'Arctic Blue', 'Black Dusk', 'Rocking Black',\n",
       "       'Black', 'Dark Blue', 'Submariner Black', 'Turbo Black',\n",
       "       'Starburst White', 'Metallica Gold', 'Speed Blue', 'Stripe Black',\n",
       "       'Stripe Blue', 'Agate Black', 'Halo White', 'Space Silver',\n",
       "       'Fluid Black', 'Cool Grey', 'Soulful Blue', 'Sapphire Blue',\n",
       "       'Dawn Gold', 'Snowfall', 'Space Black', 'Coral Green',\n",
       "       'Midnight Blue', 'Chrome Silver', 'Thunder Black', 'White',\n",
       "       'FLASH BLUE', 'Sunlight Orange', 'Speed Black', 'Wave Green',\n",
       "       'White Lily', 'Silver', 'Metallic Blue', 'Black Engine',\n",
       "       'Rush Black', 'Clash White', 'Noble Black', 'Mint Green',\n",
       "       'Aqua Green', 'Drizzling Gold', 'Hyperspace', 'Tuscany Blue',\n",
       "       'Dark Matter', 'Nebula Blue', 'Blue Tide', 'Emerald Brown',\n",
       "       'Glacier Blue', 'Eco Black', 'Jewel Blue', 'Sporty Orange', 'Mint',\n",
       "       'Starry Black', 'Emarld Brown', 'Icy Blue', 'Diamond Glow',\n",
       "       'Steller Black', 'Prism Black', 'Tech Silver', 'Bronze',\n",
       "       'Cosmic White', 'Slate grey', 'Meteor Grey', 'Sunset Orange',\n",
       "       'Glowing Gold', 'Volcanic Grey', 'Stardust Purple', 'Onyx Black',\n",
       "       'Obsidian Black', 'Light Green', 'Elegant Black', 'Orchid Blue',\n",
       "       'Sunrise Gold', 'Sea Salt White', 'Lumina Blue', 'Matte Black',\n",
       "       'Frosted Green', 'Stellar Green', 'Mystic Night',\n",
       "       'Metaverse Green', 'Onyx', 'Blue', 'Deep Ocean Black', 'Brown',\n",
       "       'Champagne Gold', 'Lavender', 'Mystique Blue', 'Magic Blue',\n",
       "       'Astral White', 'Ocean Blue', 'Rainbow Fantasy', 'Sky Black',\n",
       "       'Stealth Black', 'Raven Black', 'Daylight Green',\n",
       "       'Light Sea Green', 'Cosmic Grey', 'Frosted Champagne',\n",
       "       'Coral Orange', 'Dancing waves', 'Iceberg Blue', 'Twilight Gold',\n",
       "       'Cosmos Blue', 'Infinity Black', 'Orange', 'Starlight Black',\n",
       "       'Dark Nova', 'Sky Cyan', 'Crystal Purple', 'Starry Purple',\n",
       "       'Glowing Blue', 'Heart Of Ocean', 'Polar White',\n",
       "       'Interstellar Black', 'Flash Black', 'Starry Gold', 'Glitter Gold',\n",
       "       'Phantom Black', 'Dawnlight Gold', 'Dark Red', 'Pebble Grey',\n",
       "       'Moonless', 'Rainbow Blue', 'Light Silver', 'Bifrost Blue',\n",
       "       'Dome Blue', 'Sierra Black', 'Stargaze White', 'Meteor Black',\n",
       "       'Supersonic Black', 'Arctic White', 'Green', 'Cross Black',\n",
       "       'Cross Blue', 'Cream', 'Vintage Bronze', 'Cosmic grey',\n",
       "       'Space Purple', 'Flash Blue', 'Olive', 'Prism Blue',\n",
       "       'Atlantic Green', 'Tahiti Blue', 'DEEP GRAY', 'Supersonic Blue',\n",
       "       'Metallic Rose', 'Stardust White', 'Cryolite Blue', 'Multi Green',\n",
       "       'Peach', 'Pink Clay', 'Meadow Green', 'Sunrise Blue', 'Graphite',\n",
       "       'Ocean Wave', 'Blue Flame', 'Black Carbon', 'Silver Wave',\n",
       "       'Green Fantasy', 'Flashy Black', 'Playful Green', 'Copper',\n",
       "       'Stardust Brown', 'Shimmer Black', 'Shimmer Gold', 'Cyber Silver',\n",
       "       'Atlantic Blue', 'Oxygen Blue', 'Metal Grey', 'Chromium White',\n",
       "       'Quetzal Cyan', 'Dynamic Gray', 'Matte Gold', 'Pearl White',\n",
       "       'Geek Blue', 'Metallic Purple', 'Deep Sea Blue', 'Cyber Rage',\n",
       "       'ice silver', 'Hyper Black', 'Nature Green', 'Ravan Black',\n",
       "       '?Stardust Brown', 'CHARCOAL BLACK', 'Cyber Black', 'Obsidian',\n",
       "       'Snow', 'Lemongrass', 'Quick Silver', 'Emerald Green',\n",
       "       'Mirror Black', 'Moonlight Shadow', 'Racing Blue', 'Peppy Purple',\n",
       "       'Watery Grey', 'Azure Glow', 'Starry Glow', 'Memphis Green',\n",
       "       'Awesome Gray', 'Hazel', 'Tranquil Sea Blue', 'Magnet Black',\n",
       "       'Awesome Black', 'Dusk Blue', 'Sky Mirror', 'Awesome Blue',\n",
       "       'Sea Green', 'Phantom Blue', 'Grey', 'Awesome Mint',\n",
       "       'Symphony Cyan', 'Iris Purple', 'Blade Silver', 'Luna White',\n",
       "       'Diamond Grey', 'Denim Blue', 'Miracle Black', 'Dark Green',\n",
       "       'Flame Red', 'Graphite Black', 'Mid day dream', 'Sunshine Gold',\n",
       "       'Phantom White', 'Sunburst Gold', 'Mithril Grey',\n",
       "       'Out of the Blue', 'Diamond Dazzle', 'Cosmos Black', 'Sky Blue',\n",
       "       'Urban Blue', 'Haze Green', 'Mystic Blue', 'Awesome Peach',\n",
       "       'Tuscany Coral', 'Star blue', 'Hyper Blue', 'Glacier White',\n",
       "       'Predator Black', 'Matte black', 'Ice Blue', 'Solar Gold',\n",
       "       'Green and Greener', 'Steel Blue', 'Nitro Blue',\n",
       "       'Lightning Orange', 'Celestial Silver', 'Cloud Navy', 'Green Wave',\n",
       "       'Starlit Blue', 'Mostly Blue', 'Crystal Violet', 'Racing Silver',\n",
       "       'Topaz Blue', 'Atlantis Blue', 'Dynamo Black'], dtype=object)"
      ]
     },
     "execution_count": 72,
     "metadata": {},
     "output_type": "execute_result"
    }
   ],
   "source": [
    "df_copy.Color.unique()"
   ]
  },
  {
   "cell_type": "code",
   "execution_count": 74,
   "metadata": {},
   "outputs": [],
   "source": [
    "# Grouping the colours into categories for simplicity\n",
    "\n",
    "# Define the group_colors() function\n",
    "def group_colors(color):\n",
    "    if \"blue\" in color.lower() or \"cyan\" in color.lower():\n",
    "        return \"Blue\"\n",
    "    elif \"green\" in color.lower():\n",
    "        return \"Green\"\n",
    "    elif \"black\" in color.lower() or \"charcoal\" in color.lower() or \"obsidian\" in color.lower():\n",
    "        return \"Black\"\n",
    "    elif \"yellow\" in color.lower() or \"gold\" in color.lower():\n",
    "        return \"Yellow\"\n",
    "    elif \"grey\" in color.lower():\n",
    "        return \"Grey\"\n",
    "    elif \"white\" in color.lower():\n",
    "        return \"White\"\n",
    "    elif \"orange\" in color.lower():\n",
    "        return \"Orange\"\n",
    "    elif \"silver\" in color.lower() or \"diamond\" in color.lower():\n",
    "        return \"Silver\"\n",
    "    elif \"red\" in color.lower() or \"pink\" in color.lower():\n",
    "        return \"Red\"\n",
    "    elif \"brown\" in color.lower():\n",
    "        return \"Brown\"\n",
    "    else:\n",
    "        return \"Other\""
   ]
  },
  {
   "cell_type": "code",
   "execution_count": 75,
   "metadata": {},
   "outputs": [],
   "source": [
    "# Apply the group_colors() function on the \"color\" column\n",
    "df_copy[\"color_group\"] = df_copy[\"Color\"].apply(group_colors)"
   ]
  },
  {
   "cell_type": "code",
   "execution_count": 76,
   "metadata": {},
   "outputs": [
    {
     "data": {
      "text/html": [
       "<div>\n",
       "<style scoped>\n",
       "    .dataframe tbody tr th:only-of-type {\n",
       "        vertical-align: middle;\n",
       "    }\n",
       "\n",
       "    .dataframe tbody tr th {\n",
       "        vertical-align: top;\n",
       "    }\n",
       "\n",
       "    .dataframe thead th {\n",
       "        text-align: right;\n",
       "    }\n",
       "</style>\n",
       "<table border=\"1\" class=\"dataframe\">\n",
       "  <thead>\n",
       "    <tr style=\"text-align: right;\">\n",
       "      <th></th>\n",
       "      <th>Model</th>\n",
       "      <th>Color</th>\n",
       "      <th>Stars</th>\n",
       "      <th>Num_Ratings</th>\n",
       "      <th>Num_Reviews</th>\n",
       "      <th>Ram</th>\n",
       "      <th>Storage</th>\n",
       "      <th>Expandable</th>\n",
       "      <th>display_inches</th>\n",
       "      <th>Num_camera</th>\n",
       "      <th>battery_mah</th>\n",
       "      <th>Price</th>\n",
       "      <th>processor_category</th>\n",
       "      <th>color_group</th>\n",
       "    </tr>\n",
       "  </thead>\n",
       "  <tbody>\n",
       "    <tr>\n",
       "      <th>0</th>\n",
       "      <td>SAMSUNG Galaxy F13</td>\n",
       "      <td>Waterfall Blue</td>\n",
       "      <td>4.4</td>\n",
       "      <td>126250</td>\n",
       "      <td>7344</td>\n",
       "      <td>4 GB RAM</td>\n",
       "      <td>64 GB ROM</td>\n",
       "      <td>Expandable Upto 1 TB</td>\n",
       "      <td>16.76</td>\n",
       "      <td>3</td>\n",
       "      <td>6000</td>\n",
       "      <td>9699</td>\n",
       "      <td>Exynos processor</td>\n",
       "      <td>Blue</td>\n",
       "    </tr>\n",
       "    <tr>\n",
       "      <th>1</th>\n",
       "      <td>POCO C50</td>\n",
       "      <td>Country Green</td>\n",
       "      <td>4.4</td>\n",
       "      <td>3204</td>\n",
       "      <td>151</td>\n",
       "      <td>2 GB RAM</td>\n",
       "      <td>32 GB ROM</td>\n",
       "      <td>Expandable Upto 512 GB</td>\n",
       "      <td>16.56</td>\n",
       "      <td>1</td>\n",
       "      <td>5000</td>\n",
       "      <td>5749</td>\n",
       "      <td>Mediatek processor</td>\n",
       "      <td>Green</td>\n",
       "    </tr>\n",
       "    <tr>\n",
       "      <th>2</th>\n",
       "      <td>POCO C50</td>\n",
       "      <td>Royal Blue</td>\n",
       "      <td>4.4</td>\n",
       "      <td>3204</td>\n",
       "      <td>151</td>\n",
       "      <td>2 GB RAM</td>\n",
       "      <td>32 GB ROM</td>\n",
       "      <td>Expandable Upto 512 GB</td>\n",
       "      <td>16.56</td>\n",
       "      <td>1</td>\n",
       "      <td>5000</td>\n",
       "      <td>5749</td>\n",
       "      <td>Mediatek processor</td>\n",
       "      <td>Blue</td>\n",
       "    </tr>\n",
       "    <tr>\n",
       "      <th>3</th>\n",
       "      <td>REDMI 10</td>\n",
       "      <td>Caribbean Green</td>\n",
       "      <td>4.3</td>\n",
       "      <td>193536</td>\n",
       "      <td>12428</td>\n",
       "      <td>4 GB RAM</td>\n",
       "      <td>64 GB ROM</td>\n",
       "      <td>Expandable Upto 1 TB</td>\n",
       "      <td>17.02</td>\n",
       "      <td>2</td>\n",
       "      <td>6000</td>\n",
       "      <td>9299</td>\n",
       "      <td>Qualcomm processor</td>\n",
       "      <td>Green</td>\n",
       "    </tr>\n",
       "    <tr>\n",
       "      <th>4</th>\n",
       "      <td>REDMI 10</td>\n",
       "      <td>Pacific Blue</td>\n",
       "      <td>4.3</td>\n",
       "      <td>193536</td>\n",
       "      <td>12428</td>\n",
       "      <td>4 GB RAM</td>\n",
       "      <td>64 GB ROM</td>\n",
       "      <td>Expandable Upto 1 TB</td>\n",
       "      <td>17.02</td>\n",
       "      <td>2</td>\n",
       "      <td>6000</td>\n",
       "      <td>9299</td>\n",
       "      <td>Qualcomm processor</td>\n",
       "      <td>Blue</td>\n",
       "    </tr>\n",
       "    <tr>\n",
       "      <th>...</th>\n",
       "      <td>...</td>\n",
       "      <td>...</td>\n",
       "      <td>...</td>\n",
       "      <td>...</td>\n",
       "      <td>...</td>\n",
       "      <td>...</td>\n",
       "      <td>...</td>\n",
       "      <td>...</td>\n",
       "      <td>...</td>\n",
       "      <td>...</td>\n",
       "      <td>...</td>\n",
       "      <td>...</td>\n",
       "      <td>...</td>\n",
       "      <td>...</td>\n",
       "    </tr>\n",
       "    <tr>\n",
       "      <th>612</th>\n",
       "      <td>SAMSUNG Galaxy S22 Plus 5G</td>\n",
       "      <td>Phantom Black</td>\n",
       "      <td>4.5</td>\n",
       "      <td>2427</td>\n",
       "      <td>270</td>\n",
       "      <td>8 GB RAM</td>\n",
       "      <td>128 GB ROM</td>\n",
       "      <td>Expandable Upto 1 TB</td>\n",
       "      <td>16.76</td>\n",
       "      <td>3</td>\n",
       "      <td>4500</td>\n",
       "      <td>59999</td>\n",
       "      <td>Qualcomm processor</td>\n",
       "      <td>Black</td>\n",
       "    </tr>\n",
       "    <tr>\n",
       "      <th>613</th>\n",
       "      <td>I Kall Z5</td>\n",
       "      <td>Blue</td>\n",
       "      <td>3.0</td>\n",
       "      <td>1760</td>\n",
       "      <td>132</td>\n",
       "      <td>3 GB RAM</td>\n",
       "      <td>16 GB ROM</td>\n",
       "      <td>Expandable Upto 1 TB</td>\n",
       "      <td>13.84</td>\n",
       "      <td>1</td>\n",
       "      <td>3000</td>\n",
       "      <td>4699</td>\n",
       "      <td>Qualcomm processor</td>\n",
       "      <td>Blue</td>\n",
       "    </tr>\n",
       "    <tr>\n",
       "      <th>614</th>\n",
       "      <td>SAMSUNG Galaxy A04e</td>\n",
       "      <td>Light Blue</td>\n",
       "      <td>4.3</td>\n",
       "      <td>19</td>\n",
       "      <td>2</td>\n",
       "      <td>4 GB RAM</td>\n",
       "      <td>128 GB ROM</td>\n",
       "      <td>Expandable Upto 1 TB</td>\n",
       "      <td>16.51</td>\n",
       "      <td>2</td>\n",
       "      <td>5000</td>\n",
       "      <td>11499</td>\n",
       "      <td>Mediatek processor</td>\n",
       "      <td>Blue</td>\n",
       "    </tr>\n",
       "    <tr>\n",
       "      <th>615</th>\n",
       "      <td>Infinix Hot 11 2022</td>\n",
       "      <td>Aurora Green</td>\n",
       "      <td>4.2</td>\n",
       "      <td>17231</td>\n",
       "      <td>1402</td>\n",
       "      <td>4 GB RAM</td>\n",
       "      <td>64 GB ROM</td>\n",
       "      <td>Expandable Upto 1 TB</td>\n",
       "      <td>17.02</td>\n",
       "      <td>2</td>\n",
       "      <td>5000</td>\n",
       "      <td>9999</td>\n",
       "      <td>Unisoc processor</td>\n",
       "      <td>Green</td>\n",
       "    </tr>\n",
       "    <tr>\n",
       "      <th>616</th>\n",
       "      <td>REDMI A1</td>\n",
       "      <td>Light Green</td>\n",
       "      <td>4.3</td>\n",
       "      <td>4641</td>\n",
       "      <td>230</td>\n",
       "      <td>2 GB RAM</td>\n",
       "      <td>32 GB ROM</td>\n",
       "      <td>Expandable Upto 1 TB</td>\n",
       "      <td>16.56</td>\n",
       "      <td>1</td>\n",
       "      <td>5000</td>\n",
       "      <td>6599</td>\n",
       "      <td>Qualcomm processor</td>\n",
       "      <td>Green</td>\n",
       "    </tr>\n",
       "  </tbody>\n",
       "</table>\n",
       "<p>617 rows × 14 columns</p>\n",
       "</div>"
      ],
      "text/plain": [
       "                           Model            Color  Stars  Num_Ratings  \\\n",
       "0            SAMSUNG Galaxy F13    Waterfall Blue    4.4       126250   \n",
       "1                      POCO C50     Country Green    4.4         3204   \n",
       "2                      POCO C50        Royal Blue    4.4         3204   \n",
       "3                      REDMI 10   Caribbean Green    4.3       193536   \n",
       "4                      REDMI 10      Pacific Blue    4.3       193536   \n",
       "..                           ...              ...    ...          ...   \n",
       "612  SAMSUNG Galaxy S22 Plus 5G     Phantom Black    4.5         2427   \n",
       "613                   I Kall Z5              Blue    3.0         1760   \n",
       "614         SAMSUNG Galaxy A04e        Light Blue    4.3           19   \n",
       "615         Infinix Hot 11 2022      Aurora Green    4.2        17231   \n",
       "616                    REDMI A1       Light Green    4.3         4641   \n",
       "\n",
       "     Num_Reviews        Ram     Storage              Expandable  \\\n",
       "0           7344  4 GB RAM    64 GB ROM    Expandable Upto 1 TB   \n",
       "1            151  2 GB RAM    32 GB ROM  Expandable Upto 512 GB   \n",
       "2            151  2 GB RAM    32 GB ROM  Expandable Upto 512 GB   \n",
       "3          12428  4 GB RAM    64 GB ROM    Expandable Upto 1 TB   \n",
       "4          12428  4 GB RAM    64 GB ROM    Expandable Upto 1 TB   \n",
       "..           ...        ...         ...                     ...   \n",
       "612          270  8 GB RAM   128 GB ROM    Expandable Upto 1 TB   \n",
       "613          132  3 GB RAM    16 GB ROM    Expandable Upto 1 TB   \n",
       "614            2  4 GB RAM   128 GB ROM    Expandable Upto 1 TB   \n",
       "615         1402  4 GB RAM    64 GB ROM    Expandable Upto 1 TB   \n",
       "616          230  2 GB RAM    32 GB ROM    Expandable Upto 1 TB   \n",
       "\n",
       "     display_inches  Num_camera  battery_mah  Price  processor_category  \\\n",
       "0             16.76           3         6000   9699    Exynos processor   \n",
       "1             16.56           1         5000   5749  Mediatek processor   \n",
       "2             16.56           1         5000   5749  Mediatek processor   \n",
       "3             17.02           2         6000   9299  Qualcomm processor   \n",
       "4             17.02           2         6000   9299  Qualcomm processor   \n",
       "..              ...         ...          ...    ...                 ...   \n",
       "612           16.76           3         4500  59999  Qualcomm processor   \n",
       "613           13.84           1         3000   4699  Qualcomm processor   \n",
       "614           16.51           2         5000  11499  Mediatek processor   \n",
       "615           17.02           2         5000   9999    Unisoc processor   \n",
       "616           16.56           1         5000   6599  Qualcomm processor   \n",
       "\n",
       "    color_group  \n",
       "0          Blue  \n",
       "1         Green  \n",
       "2          Blue  \n",
       "3         Green  \n",
       "4          Blue  \n",
       "..          ...  \n",
       "612       Black  \n",
       "613        Blue  \n",
       "614        Blue  \n",
       "615       Green  \n",
       "616       Green  \n",
       "\n",
       "[617 rows x 14 columns]"
      ]
     },
     "execution_count": 76,
     "metadata": {},
     "output_type": "execute_result"
    }
   ],
   "source": [
    "df_copy"
   ]
  },
  {
   "cell_type": "code",
   "execution_count": 78,
   "metadata": {},
   "outputs": [],
   "source": [
    "# Dropping the Color column as it is not required\n",
    "df_copy.drop(\"Color\",axis=1,inplace=True)"
   ]
  },
  {
   "cell_type": "code",
   "execution_count": 79,
   "metadata": {},
   "outputs": [
    {
     "data": {
      "text/plain": [
       "array(['Blue', 'Green', 'Black', 'Other', 'Yellow', 'White', 'Orange',\n",
       "       'Grey', 'Silver', 'Brown', 'Red'], dtype=object)"
      ]
     },
     "execution_count": 79,
     "metadata": {},
     "output_type": "execute_result"
    }
   ],
   "source": [
    "df_copy.color_group.unique()"
   ]
  },
  {
   "cell_type": "code",
   "execution_count": 82,
   "metadata": {},
   "outputs": [
    {
     "data": {
      "text/html": [
       "<div>\n",
       "<style scoped>\n",
       "    .dataframe tbody tr th:only-of-type {\n",
       "        vertical-align: middle;\n",
       "    }\n",
       "\n",
       "    .dataframe tbody tr th {\n",
       "        vertical-align: top;\n",
       "    }\n",
       "\n",
       "    .dataframe thead th {\n",
       "        text-align: right;\n",
       "    }\n",
       "</style>\n",
       "<table border=\"1\" class=\"dataframe\">\n",
       "  <thead>\n",
       "    <tr style=\"text-align: right;\">\n",
       "      <th></th>\n",
       "      <th>Model</th>\n",
       "      <th>color_group</th>\n",
       "      <th>Stars</th>\n",
       "      <th>Num_Ratings</th>\n",
       "      <th>Num_Reviews</th>\n",
       "      <th>Ram</th>\n",
       "      <th>Storage</th>\n",
       "      <th>Expandable</th>\n",
       "      <th>processor_category</th>\n",
       "      <th>display_inches</th>\n",
       "      <th>Num_camera</th>\n",
       "      <th>battery_mah</th>\n",
       "      <th>Price</th>\n",
       "    </tr>\n",
       "  </thead>\n",
       "  <tbody>\n",
       "    <tr>\n",
       "      <th>0</th>\n",
       "      <td>SAMSUNG Galaxy F13</td>\n",
       "      <td>Blue</td>\n",
       "      <td>4.4</td>\n",
       "      <td>126250</td>\n",
       "      <td>7344</td>\n",
       "      <td>4 GB RAM</td>\n",
       "      <td>64 GB ROM</td>\n",
       "      <td>Expandable Upto 1 TB</td>\n",
       "      <td>Exynos processor</td>\n",
       "      <td>16.76</td>\n",
       "      <td>3</td>\n",
       "      <td>6000</td>\n",
       "      <td>9699</td>\n",
       "    </tr>\n",
       "    <tr>\n",
       "      <th>1</th>\n",
       "      <td>POCO C50</td>\n",
       "      <td>Green</td>\n",
       "      <td>4.4</td>\n",
       "      <td>3204</td>\n",
       "      <td>151</td>\n",
       "      <td>2 GB RAM</td>\n",
       "      <td>32 GB ROM</td>\n",
       "      <td>Expandable Upto 512 GB</td>\n",
       "      <td>Mediatek processor</td>\n",
       "      <td>16.56</td>\n",
       "      <td>1</td>\n",
       "      <td>5000</td>\n",
       "      <td>5749</td>\n",
       "    </tr>\n",
       "    <tr>\n",
       "      <th>2</th>\n",
       "      <td>POCO C50</td>\n",
       "      <td>Blue</td>\n",
       "      <td>4.4</td>\n",
       "      <td>3204</td>\n",
       "      <td>151</td>\n",
       "      <td>2 GB RAM</td>\n",
       "      <td>32 GB ROM</td>\n",
       "      <td>Expandable Upto 512 GB</td>\n",
       "      <td>Mediatek processor</td>\n",
       "      <td>16.56</td>\n",
       "      <td>1</td>\n",
       "      <td>5000</td>\n",
       "      <td>5749</td>\n",
       "    </tr>\n",
       "    <tr>\n",
       "      <th>3</th>\n",
       "      <td>REDMI 10</td>\n",
       "      <td>Green</td>\n",
       "      <td>4.3</td>\n",
       "      <td>193536</td>\n",
       "      <td>12428</td>\n",
       "      <td>4 GB RAM</td>\n",
       "      <td>64 GB ROM</td>\n",
       "      <td>Expandable Upto 1 TB</td>\n",
       "      <td>Qualcomm processor</td>\n",
       "      <td>17.02</td>\n",
       "      <td>2</td>\n",
       "      <td>6000</td>\n",
       "      <td>9299</td>\n",
       "    </tr>\n",
       "    <tr>\n",
       "      <th>4</th>\n",
       "      <td>REDMI 10</td>\n",
       "      <td>Blue</td>\n",
       "      <td>4.3</td>\n",
       "      <td>193536</td>\n",
       "      <td>12428</td>\n",
       "      <td>4 GB RAM</td>\n",
       "      <td>64 GB ROM</td>\n",
       "      <td>Expandable Upto 1 TB</td>\n",
       "      <td>Qualcomm processor</td>\n",
       "      <td>17.02</td>\n",
       "      <td>2</td>\n",
       "      <td>6000</td>\n",
       "      <td>9299</td>\n",
       "    </tr>\n",
       "    <tr>\n",
       "      <th>...</th>\n",
       "      <td>...</td>\n",
       "      <td>...</td>\n",
       "      <td>...</td>\n",
       "      <td>...</td>\n",
       "      <td>...</td>\n",
       "      <td>...</td>\n",
       "      <td>...</td>\n",
       "      <td>...</td>\n",
       "      <td>...</td>\n",
       "      <td>...</td>\n",
       "      <td>...</td>\n",
       "      <td>...</td>\n",
       "      <td>...</td>\n",
       "    </tr>\n",
       "    <tr>\n",
       "      <th>612</th>\n",
       "      <td>SAMSUNG Galaxy S22 Plus 5G</td>\n",
       "      <td>Black</td>\n",
       "      <td>4.5</td>\n",
       "      <td>2427</td>\n",
       "      <td>270</td>\n",
       "      <td>8 GB RAM</td>\n",
       "      <td>128 GB ROM</td>\n",
       "      <td>Expandable Upto 1 TB</td>\n",
       "      <td>Qualcomm processor</td>\n",
       "      <td>16.76</td>\n",
       "      <td>3</td>\n",
       "      <td>4500</td>\n",
       "      <td>59999</td>\n",
       "    </tr>\n",
       "    <tr>\n",
       "      <th>613</th>\n",
       "      <td>I Kall Z5</td>\n",
       "      <td>Blue</td>\n",
       "      <td>3.0</td>\n",
       "      <td>1760</td>\n",
       "      <td>132</td>\n",
       "      <td>3 GB RAM</td>\n",
       "      <td>16 GB ROM</td>\n",
       "      <td>Expandable Upto 1 TB</td>\n",
       "      <td>Qualcomm processor</td>\n",
       "      <td>13.84</td>\n",
       "      <td>1</td>\n",
       "      <td>3000</td>\n",
       "      <td>4699</td>\n",
       "    </tr>\n",
       "    <tr>\n",
       "      <th>614</th>\n",
       "      <td>SAMSUNG Galaxy A04e</td>\n",
       "      <td>Blue</td>\n",
       "      <td>4.3</td>\n",
       "      <td>19</td>\n",
       "      <td>2</td>\n",
       "      <td>4 GB RAM</td>\n",
       "      <td>128 GB ROM</td>\n",
       "      <td>Expandable Upto 1 TB</td>\n",
       "      <td>Mediatek processor</td>\n",
       "      <td>16.51</td>\n",
       "      <td>2</td>\n",
       "      <td>5000</td>\n",
       "      <td>11499</td>\n",
       "    </tr>\n",
       "    <tr>\n",
       "      <th>615</th>\n",
       "      <td>Infinix Hot 11 2022</td>\n",
       "      <td>Green</td>\n",
       "      <td>4.2</td>\n",
       "      <td>17231</td>\n",
       "      <td>1402</td>\n",
       "      <td>4 GB RAM</td>\n",
       "      <td>64 GB ROM</td>\n",
       "      <td>Expandable Upto 1 TB</td>\n",
       "      <td>Unisoc processor</td>\n",
       "      <td>17.02</td>\n",
       "      <td>2</td>\n",
       "      <td>5000</td>\n",
       "      <td>9999</td>\n",
       "    </tr>\n",
       "    <tr>\n",
       "      <th>616</th>\n",
       "      <td>REDMI A1</td>\n",
       "      <td>Green</td>\n",
       "      <td>4.3</td>\n",
       "      <td>4641</td>\n",
       "      <td>230</td>\n",
       "      <td>2 GB RAM</td>\n",
       "      <td>32 GB ROM</td>\n",
       "      <td>Expandable Upto 1 TB</td>\n",
       "      <td>Qualcomm processor</td>\n",
       "      <td>16.56</td>\n",
       "      <td>1</td>\n",
       "      <td>5000</td>\n",
       "      <td>6599</td>\n",
       "    </tr>\n",
       "  </tbody>\n",
       "</table>\n",
       "<p>617 rows × 13 columns</p>\n",
       "</div>"
      ],
      "text/plain": [
       "                           Model color_group  Stars  Num_Ratings  Num_Reviews  \\\n",
       "0            SAMSUNG Galaxy F13         Blue    4.4       126250         7344   \n",
       "1                      POCO C50        Green    4.4         3204          151   \n",
       "2                      POCO C50         Blue    4.4         3204          151   \n",
       "3                      REDMI 10        Green    4.3       193536        12428   \n",
       "4                      REDMI 10         Blue    4.3       193536        12428   \n",
       "..                           ...         ...    ...          ...          ...   \n",
       "612  SAMSUNG Galaxy S22 Plus 5G        Black    4.5         2427          270   \n",
       "613                   I Kall Z5         Blue    3.0         1760          132   \n",
       "614         SAMSUNG Galaxy A04e         Blue    4.3           19            2   \n",
       "615         Infinix Hot 11 2022        Green    4.2        17231         1402   \n",
       "616                    REDMI A1        Green    4.3         4641          230   \n",
       "\n",
       "           Ram     Storage              Expandable  processor_category  \\\n",
       "0    4 GB RAM    64 GB ROM    Expandable Upto 1 TB    Exynos processor   \n",
       "1    2 GB RAM    32 GB ROM  Expandable Upto 512 GB  Mediatek processor   \n",
       "2    2 GB RAM    32 GB ROM  Expandable Upto 512 GB  Mediatek processor   \n",
       "3    4 GB RAM    64 GB ROM    Expandable Upto 1 TB  Qualcomm processor   \n",
       "4    4 GB RAM    64 GB ROM    Expandable Upto 1 TB  Qualcomm processor   \n",
       "..         ...         ...                     ...                 ...   \n",
       "612  8 GB RAM   128 GB ROM    Expandable Upto 1 TB  Qualcomm processor   \n",
       "613  3 GB RAM    16 GB ROM    Expandable Upto 1 TB  Qualcomm processor   \n",
       "614  4 GB RAM   128 GB ROM    Expandable Upto 1 TB  Mediatek processor   \n",
       "615  4 GB RAM    64 GB ROM    Expandable Upto 1 TB    Unisoc processor   \n",
       "616  2 GB RAM    32 GB ROM    Expandable Upto 1 TB  Qualcomm processor   \n",
       "\n",
       "     display_inches  Num_camera  battery_mah  Price  \n",
       "0             16.76           3         6000   9699  \n",
       "1             16.56           1         5000   5749  \n",
       "2             16.56           1         5000   5749  \n",
       "3             17.02           2         6000   9299  \n",
       "4             17.02           2         6000   9299  \n",
       "..              ...         ...          ...    ...  \n",
       "612           16.76           3         4500  59999  \n",
       "613           13.84           1         3000   4699  \n",
       "614           16.51           2         5000  11499  \n",
       "615           17.02           2         5000   9999  \n",
       "616           16.56           1         5000   6599  \n",
       "\n",
       "[617 rows x 13 columns]"
      ]
     },
     "execution_count": 82,
     "metadata": {},
     "output_type": "execute_result"
    }
   ],
   "source": [
    "df_copy"
   ]
  },
  {
   "cell_type": "markdown",
   "metadata": {},
   "source": [
    "*Analysing the Model Column*"
   ]
  },
  {
   "cell_type": "code",
   "execution_count": 85,
   "metadata": {},
   "outputs": [
    {
     "data": {
      "text/plain": [
       "array(['SAMSUNG Galaxy F13 ', 'POCO C50 ', 'REDMI 10 ',\n",
       "       'Infinix HOT 20 Play ', 'SAMSUNG Galaxy F23 5G ',\n",
       "       'POCO M4 Pro 5G ', 'MOTOROLA g52 ', 'MOTOROLA g31 ',\n",
       "       'MOTOROLA e13 ', 'Infinix Hot 12 ', 'Infinix NOTE 12i ',\n",
       "       'POCO X4 Pro 5G ', 'POCO M4 5G ', 'MOTOROLA G62 5G ',\n",
       "       'Infinix Smart 6 HD ', 'Infinix SMART 7 ', 'MOTOROLA G32 ',\n",
       "       'MOTOROLA g22 ', 'SAMSUNG Galaxy F04 ', 'MOTOROLA e40 ',\n",
       "       'vivo T1 44W ', 'Google Pixel 6a ', 'realme C35 ',\n",
       "       'Realme C30 - Locked with Airtel Prepaid ', 'Infinix Hot 12 Pro ',\n",
       "       'vivo T1X ', 'SAMSUNG Galaxy M33 5G ', 'REDMI Note 10S ',\n",
       "       'POCO M4 Pro ', 'MOTOROLA g82 5G ', 'OPPO A17 ', 'POCO X5 Pro 5G ',\n",
       "       'MOTOROLA g72 ', 'OPPO A17k ', 'Infinix Hot 20 5G ', 'REDMI 10A ',\n",
       "       'POCO C31 ', 'realme C33 ', 'realme C30 ', 'vivo T1 Pro 5G ',\n",
       "       'REDMI 9i Sport ', 'REDMI A1 ', 'MOTOROLA e32 ',\n",
       "       'OnePlus Nord CE 2 Lite 5G ', 'realme 9i 5G ',\n",
       "       'SAMSUNG Galaxy M04 ', 'Infinix Zero 5G 2023 ', 'POCO C55 ',\n",
       "       'REDMI Note 11 ', 'realme Narzo 50 ', 'realme C30s ', 'vivo Y35 ',\n",
       "       'realme Narzo 50i Prime ', 'OPPO F19 Pro+ 5G ', 'realme C11 2021 ',\n",
       "       'Nothing Phone (1) ', 'vivo Y01 ', 'POCO M5 ', 'REDMI 10 Power ',\n",
       "       'Infinix HOT 20 5G ', 'Infinix Note 12 5G ', 'OPPO F19 ',\n",
       "       'REDMI 11 Prime 5G ', 'realme NARZO 50A PRIME ', 'vivo Y15s ',\n",
       "       'Micromax IN 2C ', 'vivo Y56 5G ', 'realme 10 ',\n",
       "       'vivo V27 Pro 5G ', 'SAMSUNG GALAXY M13 5G ', 'vivo Y16 ',\n",
       "       'realme 10 Pro+ 5G ', 'Infinix Note 12 Pro ',\n",
       "       'REDMI Note 12 Pro 5G ', 'Infinix Note 12 ',\n",
       "       'SAMSUNG Galaxy A03 Core ', 'Infinix Note 12 Pro 5G ',\n",
       "       'OPPO A77s ', 'vivo Y21 ', 'Tecno Pova 3 ', 'MOTOROLA edge 30 ',\n",
       "       'REDMI Note 11 SE ', 'MOTOROLA Edge 30 ', 'OPPO F19s ',\n",
       "       'OPPO K10 5G ', 'REDMI Note 12 Pro+ 5G ', 'SAMSUNG Galaxy A14 5G ',\n",
       "       'vivo Y02 ', 'OPPO Reno8T 5G ', 'realme 10 Pro 5G ',\n",
       "       'Tecno Camon 19 ', 'IQOO Z6 44W ', 'Infinix HOT 12 Play ',\n",
       "       'REDMI Note 12 5G ', 'IQOO Z6 Lite 5G (Without Charger) ',\n",
       "       'SAMSUNG Galaxy M32 Prime Edition ', 'Redmi 9A Sport ',\n",
       "       'vivo Y22 ', 'REDMI Note 11S ', 'I Kall Z19Pro ', 'itel Vision3 ',\n",
       "       'SAMSUNG Galaxy S23 5G ', 'realme C20 ', 'REDMI 9 Activ ',\n",
       "       'REDMI 10 Prime ', 'vivo T1 5G ', 'itel A23S ', 'REDMI K50i 5G ',\n",
       "       'SAMSUNG Galaxy A23 5G ', 'REDMI A1+ ', 'Infinix Smart 6 ',\n",
       "       'MOTOROLA G40 Fusion ', 'vivo Y75 ', 'OPPO F21 Pro ',\n",
       "       'POCO F4 5G ', 'vivo Y100 5G ', 'Motorola Edge 30 Pro ',\n",
       "       'Infinix Zero 5G 2023 TURBO ', 'Tecno Spark 9 ', 'vivo Y21T ',\n",
       "       'oppo A17K ', 'REDMI Note 10T 5G ', 'IQOO Neo 6 5G ', 'itel A49 ',\n",
       "       'SAMSUNG GALAXY M13 ', 'OPPO A78 5G ', 'Micromax IN 2B ',\n",
       "       'itel Vision 3 ', 'SAMSUNG Galaxy A04e ', 'Tecno Spark 8 Pro ',\n",
       "       'realme Narzo 50A Prime ', 'realme 9 Pro 5G ',\n",
       "       'SAMSUNG Galaxy S21 FE 5G ', 'vivo Y33T ', 'Infinix Zero 20 ',\n",
       "       'vivo Y21G ', 'OPPO F21s Pro 5G ', 'realme Narzo 50i ',\n",
       "       'REDMI Note 9 ', 'Infinix Note 12 TURBO ', 'MOTOROLA G60 ',\n",
       "       'OPPO A55 ', 'MOTOROLA g82 5G', 'realme C31 ', 'OPPO A57 ',\n",
       "       'REDMI 9i ', 'OnePlus 10R ', 'realme 9 5G ', 'SAMSUNG Galaxy A13 ',\n",
       "       'realme C21 ', 'SAMSUNG Galaxy S23 Plus 5G ', 'REDMI Note 10 Pro ',\n",
       "       'realme 8 5G ', 'Micromax IN Note 1 ', 'MOTOROLA Edge 30 Fusion ',\n",
       "       'realme 8i ', 'realme 9i ', 'MOTOROLA g42 ', 'MOTOROLA E7 Power ',\n",
       "       'LAVA Z1s ', 'Redmi 10 Prime ', 'REDMI Note 11T 5G ',\n",
       "       'Tecno POVA 4 ', 'SAMSUNG Galaxy A23 ', 'SAMSUNG Galaxy M32 ',\n",
       "       'Nokia C01 Plus ', 'Infinix Smart 5A ', 'OPPO K10 ', 'vivo Y21A ',\n",
       "       'Infinix Hot 11 ', 'REDMI 11 Prime ', 'SAMSUNG Galaxy A04 ',\n",
       "       'OPPO Reno8 5G ', 'realme 8 ', 'Redmi 9 ', 'Tecno Spark Go 2022 ',\n",
       "       'Tecno Spark 8 ', 'realme Narzo 50A ', 'realme C25_Y ',\n",
       "       'realme C21Y ', 'Redmi 7A ', 'Tecno Pova Neo ',\n",
       "       'realme narzo 50 5G ', 'Redmi 9A ', 'realme 9 Pro+ 5G ',\n",
       "       'REDMI 10A SPORT ', 'Google Pixel 7 ', 'realme 50A Prime ',\n",
       "       'REDMI K50i ', 'REDMI Note 11 Pro ', 'SAMSUNG Galaxy M53 5G ',\n",
       "       'realme Narzo 30 ', 'ASUS ROG 5s ', 'realme C25s ',\n",
       "       'realme 9 5G SE ', 'SAMSUNG Galaxy F22 ', 'SAMSUNG Galaxy A73 5G ',\n",
       "       'Google Pixel 7 Pro ', 'Infinix Smart 6 Plus ', 'Tecno Spark 8C ',\n",
       "       'SAMSUNG Galaxy A53 ', 'OPPO A16E ', 'vivo V21 5G ', 'vivo Y53s ',\n",
       "       'SAMSUNG Galaxy F12 ', 'SAMSUNG Galaxy Z Flip3 5G ',\n",
       "       'Infinix Note 11s ', 'OPPO F21s Pro ', 'realme Narzo 30 Pro 5G ',\n",
       "       'SAMSUNG Galaxy M13 ', 'realme GT Master Edition ', 'LAVA Z2 ',\n",
       "       'POCO X3 Pro ', 'vivo V23 Pro 5G ', 'realme 9 ', 'POCO M2 Pro ',\n",
       "       'SAMSUNG Galaxy A04s ', 'Tecno Pop 6 Pro ', 'Xiaomi 11Lite NE ',\n",
       "       'Infinix Hot 11 2022 ', 'vivo X80 ', 'POCO M3 Pro 5G ',\n",
       "       'itel Vision3 Turbo ', 'Infinix Note 11s Free Fire Edition ',\n",
       "       'Infinix Hot 11S ', 'vivo Y15c ', 'Infinix Note 11 ',\n",
       "       'SAMSUNG Galaxy A33 ', 'Mi 11 Lite ', 'Redmi Note 11S ',\n",
       "       'REDMI Note 10 lite ', 'POCO F3 GT 5G ', 'Tecno Pop 5 Pro ',\n",
       "       'realme GT Neo 3 (150W - Thor Limited Edition) ', 'realme 6 Pro ',\n",
       "       'Redmi Note 11 PRO Plus 5G ', 'Mi 11X Pro 5G ',\n",
       "       'SAMSUNG Galaxy S20 FE 5G ', 'POCO C3 ', 'POCO M2 Reloaded ',\n",
       "       'OPPO A12 ', 'Infinix Smart HD 2021 ', 'POCO X2 ',\n",
       "       'MOTOROLA Edge 30 Ultra ', 'IQOO Z6 5G ',\n",
       "       'SAMSUNG Galaxy S22 Plus 5G ', 'I Kall Z5 '], dtype=object)"
      ]
     },
     "execution_count": 85,
     "metadata": {},
     "output_type": "execute_result"
    }
   ],
   "source": [
    "df_copy.Model.unique()"
   ]
  },
  {
   "cell_type": "code",
   "execution_count": 86,
   "metadata": {},
   "outputs": [],
   "source": [
    "# use regex to split the first word in the Model column and create two new columns\n",
    "df_copy[['Company', 'model_name']] = df_copy['Model'].str.extract('^(\\S+)\\s(.+)$')"
   ]
  },
  {
   "cell_type": "code",
   "execution_count": 96,
   "metadata": {},
   "outputs": [
    {
     "data": {
      "text/plain": [
       "array(['SAMSUNG', 'POCO', 'REDMI', 'Infinix', 'MOTOROLA', 'vivo',\n",
       "       'Google', 'realme', 'Realme', 'OPPO', 'OnePlus', 'Nothing',\n",
       "       'Micromax', 'Tecno', 'IQOO', 'Redmi', 'itel', 'Motorola', 'oppo',\n",
       "       'LAVA', 'Nokia', 'ASUS', 'Xiaomi', 'Mi'], dtype=object)"
      ]
     },
     "execution_count": 96,
     "metadata": {},
     "output_type": "execute_result"
    }
   ],
   "source": [
    "df_copy.Company.unique()"
   ]
  },
  {
   "cell_type": "code",
   "execution_count": 95,
   "metadata": {},
   "outputs": [],
   "source": [
    "df_copy.Company.replace({'I':'Infinix'},inplace=True)"
   ]
  },
  {
   "cell_type": "code",
   "execution_count": 98,
   "metadata": {},
   "outputs": [],
   "source": [
    "# Dropping the Model column as it is no longer required\n",
    "df_copy.drop(columns=[\"Model\"],inplace=True)"
   ]
  },
  {
   "cell_type": "code",
   "execution_count": 99,
   "metadata": {},
   "outputs": [],
   "source": [
    "# Changing the order of the columns after making the changes\n",
    "\n",
    "df_copy = df_copy[[\"Company\",'model_name', 'color_group', 'Stars', 'Num_Ratings', 'Num_Reviews', 'Ram', 'Storage', 'Expandable', 'processor_category', 'display_inches', 'Num_camera', 'battery_mah', 'Price']]\n"
   ]
  },
  {
   "cell_type": "code",
   "execution_count": 103,
   "metadata": {},
   "outputs": [],
   "source": [
    "pd.set_option(\"display.max_rows\",10)"
   ]
  },
  {
   "cell_type": "markdown",
   "metadata": {},
   "source": [
    "*Taking a look at the finalized Dataframe*"
   ]
  },
  {
   "cell_type": "code",
   "execution_count": 104,
   "metadata": {},
   "outputs": [
    {
     "data": {
      "text/html": [
       "<div>\n",
       "<style scoped>\n",
       "    .dataframe tbody tr th:only-of-type {\n",
       "        vertical-align: middle;\n",
       "    }\n",
       "\n",
       "    .dataframe tbody tr th {\n",
       "        vertical-align: top;\n",
       "    }\n",
       "\n",
       "    .dataframe thead th {\n",
       "        text-align: right;\n",
       "    }\n",
       "</style>\n",
       "<table border=\"1\" class=\"dataframe\">\n",
       "  <thead>\n",
       "    <tr style=\"text-align: right;\">\n",
       "      <th></th>\n",
       "      <th>Company</th>\n",
       "      <th>model_name</th>\n",
       "      <th>color_group</th>\n",
       "      <th>Stars</th>\n",
       "      <th>Num_Ratings</th>\n",
       "      <th>Num_Reviews</th>\n",
       "      <th>Ram</th>\n",
       "      <th>Storage</th>\n",
       "      <th>Expandable</th>\n",
       "      <th>processor_category</th>\n",
       "      <th>display_inches</th>\n",
       "      <th>Num_camera</th>\n",
       "      <th>battery_mah</th>\n",
       "      <th>Price</th>\n",
       "    </tr>\n",
       "  </thead>\n",
       "  <tbody>\n",
       "    <tr>\n",
       "      <th>0</th>\n",
       "      <td>SAMSUNG</td>\n",
       "      <td>Galaxy F13</td>\n",
       "      <td>Blue</td>\n",
       "      <td>4.4</td>\n",
       "      <td>126250</td>\n",
       "      <td>7344</td>\n",
       "      <td>4 GB RAM</td>\n",
       "      <td>64 GB ROM</td>\n",
       "      <td>Expandable Upto 1 TB</td>\n",
       "      <td>Exynos processor</td>\n",
       "      <td>16.76</td>\n",
       "      <td>3</td>\n",
       "      <td>6000</td>\n",
       "      <td>9699</td>\n",
       "    </tr>\n",
       "    <tr>\n",
       "      <th>1</th>\n",
       "      <td>POCO</td>\n",
       "      <td>C50</td>\n",
       "      <td>Green</td>\n",
       "      <td>4.4</td>\n",
       "      <td>3204</td>\n",
       "      <td>151</td>\n",
       "      <td>2 GB RAM</td>\n",
       "      <td>32 GB ROM</td>\n",
       "      <td>Expandable Upto 512 GB</td>\n",
       "      <td>Mediatek processor</td>\n",
       "      <td>16.56</td>\n",
       "      <td>1</td>\n",
       "      <td>5000</td>\n",
       "      <td>5749</td>\n",
       "    </tr>\n",
       "    <tr>\n",
       "      <th>2</th>\n",
       "      <td>POCO</td>\n",
       "      <td>C50</td>\n",
       "      <td>Blue</td>\n",
       "      <td>4.4</td>\n",
       "      <td>3204</td>\n",
       "      <td>151</td>\n",
       "      <td>2 GB RAM</td>\n",
       "      <td>32 GB ROM</td>\n",
       "      <td>Expandable Upto 512 GB</td>\n",
       "      <td>Mediatek processor</td>\n",
       "      <td>16.56</td>\n",
       "      <td>1</td>\n",
       "      <td>5000</td>\n",
       "      <td>5749</td>\n",
       "    </tr>\n",
       "    <tr>\n",
       "      <th>3</th>\n",
       "      <td>REDMI</td>\n",
       "      <td>10</td>\n",
       "      <td>Green</td>\n",
       "      <td>4.3</td>\n",
       "      <td>193536</td>\n",
       "      <td>12428</td>\n",
       "      <td>4 GB RAM</td>\n",
       "      <td>64 GB ROM</td>\n",
       "      <td>Expandable Upto 1 TB</td>\n",
       "      <td>Qualcomm processor</td>\n",
       "      <td>17.02</td>\n",
       "      <td>2</td>\n",
       "      <td>6000</td>\n",
       "      <td>9299</td>\n",
       "    </tr>\n",
       "    <tr>\n",
       "      <th>4</th>\n",
       "      <td>REDMI</td>\n",
       "      <td>10</td>\n",
       "      <td>Blue</td>\n",
       "      <td>4.3</td>\n",
       "      <td>193536</td>\n",
       "      <td>12428</td>\n",
       "      <td>4 GB RAM</td>\n",
       "      <td>64 GB ROM</td>\n",
       "      <td>Expandable Upto 1 TB</td>\n",
       "      <td>Qualcomm processor</td>\n",
       "      <td>17.02</td>\n",
       "      <td>2</td>\n",
       "      <td>6000</td>\n",
       "      <td>9299</td>\n",
       "    </tr>\n",
       "    <tr>\n",
       "      <th>...</th>\n",
       "      <td>...</td>\n",
       "      <td>...</td>\n",
       "      <td>...</td>\n",
       "      <td>...</td>\n",
       "      <td>...</td>\n",
       "      <td>...</td>\n",
       "      <td>...</td>\n",
       "      <td>...</td>\n",
       "      <td>...</td>\n",
       "      <td>...</td>\n",
       "      <td>...</td>\n",
       "      <td>...</td>\n",
       "      <td>...</td>\n",
       "      <td>...</td>\n",
       "    </tr>\n",
       "    <tr>\n",
       "      <th>612</th>\n",
       "      <td>SAMSUNG</td>\n",
       "      <td>Galaxy S22 Plus 5G</td>\n",
       "      <td>Black</td>\n",
       "      <td>4.5</td>\n",
       "      <td>2427</td>\n",
       "      <td>270</td>\n",
       "      <td>8 GB RAM</td>\n",
       "      <td>128 GB ROM</td>\n",
       "      <td>Expandable Upto 1 TB</td>\n",
       "      <td>Qualcomm processor</td>\n",
       "      <td>16.76</td>\n",
       "      <td>3</td>\n",
       "      <td>4500</td>\n",
       "      <td>59999</td>\n",
       "    </tr>\n",
       "    <tr>\n",
       "      <th>613</th>\n",
       "      <td>Infinix</td>\n",
       "      <td>Kall Z5</td>\n",
       "      <td>Blue</td>\n",
       "      <td>3.0</td>\n",
       "      <td>1760</td>\n",
       "      <td>132</td>\n",
       "      <td>3 GB RAM</td>\n",
       "      <td>16 GB ROM</td>\n",
       "      <td>Expandable Upto 1 TB</td>\n",
       "      <td>Qualcomm processor</td>\n",
       "      <td>13.84</td>\n",
       "      <td>1</td>\n",
       "      <td>3000</td>\n",
       "      <td>4699</td>\n",
       "    </tr>\n",
       "    <tr>\n",
       "      <th>614</th>\n",
       "      <td>SAMSUNG</td>\n",
       "      <td>Galaxy A04e</td>\n",
       "      <td>Blue</td>\n",
       "      <td>4.3</td>\n",
       "      <td>19</td>\n",
       "      <td>2</td>\n",
       "      <td>4 GB RAM</td>\n",
       "      <td>128 GB ROM</td>\n",
       "      <td>Expandable Upto 1 TB</td>\n",
       "      <td>Mediatek processor</td>\n",
       "      <td>16.51</td>\n",
       "      <td>2</td>\n",
       "      <td>5000</td>\n",
       "      <td>11499</td>\n",
       "    </tr>\n",
       "    <tr>\n",
       "      <th>615</th>\n",
       "      <td>Infinix</td>\n",
       "      <td>Hot 11 2022</td>\n",
       "      <td>Green</td>\n",
       "      <td>4.2</td>\n",
       "      <td>17231</td>\n",
       "      <td>1402</td>\n",
       "      <td>4 GB RAM</td>\n",
       "      <td>64 GB ROM</td>\n",
       "      <td>Expandable Upto 1 TB</td>\n",
       "      <td>Unisoc processor</td>\n",
       "      <td>17.02</td>\n",
       "      <td>2</td>\n",
       "      <td>5000</td>\n",
       "      <td>9999</td>\n",
       "    </tr>\n",
       "    <tr>\n",
       "      <th>616</th>\n",
       "      <td>REDMI</td>\n",
       "      <td>A1</td>\n",
       "      <td>Green</td>\n",
       "      <td>4.3</td>\n",
       "      <td>4641</td>\n",
       "      <td>230</td>\n",
       "      <td>2 GB RAM</td>\n",
       "      <td>32 GB ROM</td>\n",
       "      <td>Expandable Upto 1 TB</td>\n",
       "      <td>Qualcomm processor</td>\n",
       "      <td>16.56</td>\n",
       "      <td>1</td>\n",
       "      <td>5000</td>\n",
       "      <td>6599</td>\n",
       "    </tr>\n",
       "  </tbody>\n",
       "</table>\n",
       "<p>617 rows × 14 columns</p>\n",
       "</div>"
      ],
      "text/plain": [
       "     Company           model_name color_group  Stars  Num_Ratings  \\\n",
       "0    SAMSUNG          Galaxy F13         Blue    4.4       126250   \n",
       "1       POCO                 C50        Green    4.4         3204   \n",
       "2       POCO                 C50         Blue    4.4         3204   \n",
       "3      REDMI                  10        Green    4.3       193536   \n",
       "4      REDMI                  10         Blue    4.3       193536   \n",
       "..       ...                  ...         ...    ...          ...   \n",
       "612  SAMSUNG  Galaxy S22 Plus 5G        Black    4.5         2427   \n",
       "613  Infinix             Kall Z5         Blue    3.0         1760   \n",
       "614  SAMSUNG         Galaxy A04e         Blue    4.3           19   \n",
       "615  Infinix         Hot 11 2022        Green    4.2        17231   \n",
       "616    REDMI                  A1        Green    4.3         4641   \n",
       "\n",
       "     Num_Reviews        Ram     Storage              Expandable  \\\n",
       "0           7344  4 GB RAM    64 GB ROM    Expandable Upto 1 TB   \n",
       "1            151  2 GB RAM    32 GB ROM  Expandable Upto 512 GB   \n",
       "2            151  2 GB RAM    32 GB ROM  Expandable Upto 512 GB   \n",
       "3          12428  4 GB RAM    64 GB ROM    Expandable Upto 1 TB   \n",
       "4          12428  4 GB RAM    64 GB ROM    Expandable Upto 1 TB   \n",
       "..           ...        ...         ...                     ...   \n",
       "612          270  8 GB RAM   128 GB ROM    Expandable Upto 1 TB   \n",
       "613          132  3 GB RAM    16 GB ROM    Expandable Upto 1 TB   \n",
       "614            2  4 GB RAM   128 GB ROM    Expandable Upto 1 TB   \n",
       "615         1402  4 GB RAM    64 GB ROM    Expandable Upto 1 TB   \n",
       "616          230  2 GB RAM    32 GB ROM    Expandable Upto 1 TB   \n",
       "\n",
       "     processor_category  display_inches  Num_camera  battery_mah  Price  \n",
       "0      Exynos processor           16.76           3         6000   9699  \n",
       "1    Mediatek processor           16.56           1         5000   5749  \n",
       "2    Mediatek processor           16.56           1         5000   5749  \n",
       "3    Qualcomm processor           17.02           2         6000   9299  \n",
       "4    Qualcomm processor           17.02           2         6000   9299  \n",
       "..                  ...             ...         ...          ...    ...  \n",
       "612  Qualcomm processor           16.76           3         4500  59999  \n",
       "613  Qualcomm processor           13.84           1         3000   4699  \n",
       "614  Mediatek processor           16.51           2         5000  11499  \n",
       "615    Unisoc processor           17.02           2         5000   9999  \n",
       "616  Qualcomm processor           16.56           1         5000   6599  \n",
       "\n",
       "[617 rows x 14 columns]"
      ]
     },
     "execution_count": 104,
     "metadata": {},
     "output_type": "execute_result"
    }
   ],
   "source": [
    "df_copy"
   ]
  },
  {
   "cell_type": "markdown",
   "metadata": {},
   "source": [
    "*Exporting the cleaned datafame in the form of a csv file*"
   ]
  },
  {
   "cell_type": "code",
   "execution_count": 83,
   "metadata": {},
   "outputs": [],
   "source": [
    "df_copy.to_csv('mobile_df.csv', index=False)"
   ]
  }
 ],
 "metadata": {
  "kernelspec": {
   "display_name": "Python 3",
   "language": "python",
   "name": "python3"
  },
  "language_info": {
   "codemirror_mode": {
    "name": "ipython",
    "version": 3
   },
   "file_extension": ".py",
   "mimetype": "text/x-python",
   "name": "python",
   "nbconvert_exporter": "python",
   "pygments_lexer": "ipython3",
   "version": "3.9.16"
  },
  "orig_nbformat": 4
 },
 "nbformat": 4,
 "nbformat_minor": 2
}
